{
  "nbformat": 4,
  "nbformat_minor": 0,
  "metadata": {
    "colab": {
      "provenance": [],
      "collapsed_sections": [
        "MsbrJowfzPKF",
        "JFSzP9qRzgvs",
        "XmmeOtcKzkwd",
        "cvzKFkKvznu-",
        "r71K363x4_I0",
        "WyEHdRvyzsPQ"
      ]
    },
    "kernelspec": {
      "name": "python3",
      "display_name": "Python 3"
    },
    "language_info": {
      "name": "python"
    },
    "widgets": {
      "application/vnd.jupyter.widget-state+json": {
        "1faefdf9db17418c81a6bff773f128ad": {
          "model_module": "@jupyter-widgets/controls",
          "model_name": "HBoxModel",
          "model_module_version": "1.5.0",
          "state": {
            "_dom_classes": [],
            "_model_module": "@jupyter-widgets/controls",
            "_model_module_version": "1.5.0",
            "_model_name": "HBoxModel",
            "_view_count": null,
            "_view_module": "@jupyter-widgets/controls",
            "_view_module_version": "1.5.0",
            "_view_name": "HBoxView",
            "box_style": "",
            "children": [
              "IPY_MODEL_4eb42f1f870b4b3c9f1d5d92a2fb1ad2",
              "IPY_MODEL_694b1a8f4e274558a4a84d03503fec35",
              "IPY_MODEL_3f625d95b0984ef98fc0febb514e3220"
            ],
            "layout": "IPY_MODEL_b2ef56b5000b4f23a946b8db75cc2ffe"
          }
        },
        "4eb42f1f870b4b3c9f1d5d92a2fb1ad2": {
          "model_module": "@jupyter-widgets/controls",
          "model_name": "HTMLModel",
          "model_module_version": "1.5.0",
          "state": {
            "_dom_classes": [],
            "_model_module": "@jupyter-widgets/controls",
            "_model_module_version": "1.5.0",
            "_model_name": "HTMLModel",
            "_view_count": null,
            "_view_module": "@jupyter-widgets/controls",
            "_view_module_version": "1.5.0",
            "_view_name": "HTMLView",
            "description": "",
            "description_tooltip": null,
            "layout": "IPY_MODEL_53d8c64ce0534537a5e3c1c5e5323111",
            "placeholder": "​",
            "style": "IPY_MODEL_3fe9b99a55ae46c08b20e93793a803bc",
            "value": "Downloading (…)solve/main/vocab.txt: 100%"
          }
        },
        "694b1a8f4e274558a4a84d03503fec35": {
          "model_module": "@jupyter-widgets/controls",
          "model_name": "FloatProgressModel",
          "model_module_version": "1.5.0",
          "state": {
            "_dom_classes": [],
            "_model_module": "@jupyter-widgets/controls",
            "_model_module_version": "1.5.0",
            "_model_name": "FloatProgressModel",
            "_view_count": null,
            "_view_module": "@jupyter-widgets/controls",
            "_view_module_version": "1.5.0",
            "_view_name": "ProgressView",
            "bar_style": "success",
            "description": "",
            "description_tooltip": null,
            "layout": "IPY_MODEL_c6435d134ddf4a84b50e8094542ebf9c",
            "max": 227845,
            "min": 0,
            "orientation": "horizontal",
            "style": "IPY_MODEL_f482591eed874aaa9ab783277ace02ee",
            "value": 227845
          }
        },
        "3f625d95b0984ef98fc0febb514e3220": {
          "model_module": "@jupyter-widgets/controls",
          "model_name": "HTMLModel",
          "model_module_version": "1.5.0",
          "state": {
            "_dom_classes": [],
            "_model_module": "@jupyter-widgets/controls",
            "_model_module_version": "1.5.0",
            "_model_name": "HTMLModel",
            "_view_count": null,
            "_view_module": "@jupyter-widgets/controls",
            "_view_module_version": "1.5.0",
            "_view_name": "HTMLView",
            "description": "",
            "description_tooltip": null,
            "layout": "IPY_MODEL_589d57ddb66b4a268687ac695f0299ed",
            "placeholder": "​",
            "style": "IPY_MODEL_7b3fb3bce9fe4b69bc7f5093599882fd",
            "value": " 228k/228k [00:00&lt;00:00, 7.57MB/s]"
          }
        },
        "b2ef56b5000b4f23a946b8db75cc2ffe": {
          "model_module": "@jupyter-widgets/base",
          "model_name": "LayoutModel",
          "model_module_version": "1.2.0",
          "state": {
            "_model_module": "@jupyter-widgets/base",
            "_model_module_version": "1.2.0",
            "_model_name": "LayoutModel",
            "_view_count": null,
            "_view_module": "@jupyter-widgets/base",
            "_view_module_version": "1.2.0",
            "_view_name": "LayoutView",
            "align_content": null,
            "align_items": null,
            "align_self": null,
            "border": null,
            "bottom": null,
            "display": null,
            "flex": null,
            "flex_flow": null,
            "grid_area": null,
            "grid_auto_columns": null,
            "grid_auto_flow": null,
            "grid_auto_rows": null,
            "grid_column": null,
            "grid_gap": null,
            "grid_row": null,
            "grid_template_areas": null,
            "grid_template_columns": null,
            "grid_template_rows": null,
            "height": null,
            "justify_content": null,
            "justify_items": null,
            "left": null,
            "margin": null,
            "max_height": null,
            "max_width": null,
            "min_height": null,
            "min_width": null,
            "object_fit": null,
            "object_position": null,
            "order": null,
            "overflow": null,
            "overflow_x": null,
            "overflow_y": null,
            "padding": null,
            "right": null,
            "top": null,
            "visibility": null,
            "width": null
          }
        },
        "53d8c64ce0534537a5e3c1c5e5323111": {
          "model_module": "@jupyter-widgets/base",
          "model_name": "LayoutModel",
          "model_module_version": "1.2.0",
          "state": {
            "_model_module": "@jupyter-widgets/base",
            "_model_module_version": "1.2.0",
            "_model_name": "LayoutModel",
            "_view_count": null,
            "_view_module": "@jupyter-widgets/base",
            "_view_module_version": "1.2.0",
            "_view_name": "LayoutView",
            "align_content": null,
            "align_items": null,
            "align_self": null,
            "border": null,
            "bottom": null,
            "display": null,
            "flex": null,
            "flex_flow": null,
            "grid_area": null,
            "grid_auto_columns": null,
            "grid_auto_flow": null,
            "grid_auto_rows": null,
            "grid_column": null,
            "grid_gap": null,
            "grid_row": null,
            "grid_template_areas": null,
            "grid_template_columns": null,
            "grid_template_rows": null,
            "height": null,
            "justify_content": null,
            "justify_items": null,
            "left": null,
            "margin": null,
            "max_height": null,
            "max_width": null,
            "min_height": null,
            "min_width": null,
            "object_fit": null,
            "object_position": null,
            "order": null,
            "overflow": null,
            "overflow_x": null,
            "overflow_y": null,
            "padding": null,
            "right": null,
            "top": null,
            "visibility": null,
            "width": null
          }
        },
        "3fe9b99a55ae46c08b20e93793a803bc": {
          "model_module": "@jupyter-widgets/controls",
          "model_name": "DescriptionStyleModel",
          "model_module_version": "1.5.0",
          "state": {
            "_model_module": "@jupyter-widgets/controls",
            "_model_module_version": "1.5.0",
            "_model_name": "DescriptionStyleModel",
            "_view_count": null,
            "_view_module": "@jupyter-widgets/base",
            "_view_module_version": "1.2.0",
            "_view_name": "StyleView",
            "description_width": ""
          }
        },
        "c6435d134ddf4a84b50e8094542ebf9c": {
          "model_module": "@jupyter-widgets/base",
          "model_name": "LayoutModel",
          "model_module_version": "1.2.0",
          "state": {
            "_model_module": "@jupyter-widgets/base",
            "_model_module_version": "1.2.0",
            "_model_name": "LayoutModel",
            "_view_count": null,
            "_view_module": "@jupyter-widgets/base",
            "_view_module_version": "1.2.0",
            "_view_name": "LayoutView",
            "align_content": null,
            "align_items": null,
            "align_self": null,
            "border": null,
            "bottom": null,
            "display": null,
            "flex": null,
            "flex_flow": null,
            "grid_area": null,
            "grid_auto_columns": null,
            "grid_auto_flow": null,
            "grid_auto_rows": null,
            "grid_column": null,
            "grid_gap": null,
            "grid_row": null,
            "grid_template_areas": null,
            "grid_template_columns": null,
            "grid_template_rows": null,
            "height": null,
            "justify_content": null,
            "justify_items": null,
            "left": null,
            "margin": null,
            "max_height": null,
            "max_width": null,
            "min_height": null,
            "min_width": null,
            "object_fit": null,
            "object_position": null,
            "order": null,
            "overflow": null,
            "overflow_x": null,
            "overflow_y": null,
            "padding": null,
            "right": null,
            "top": null,
            "visibility": null,
            "width": null
          }
        },
        "f482591eed874aaa9ab783277ace02ee": {
          "model_module": "@jupyter-widgets/controls",
          "model_name": "ProgressStyleModel",
          "model_module_version": "1.5.0",
          "state": {
            "_model_module": "@jupyter-widgets/controls",
            "_model_module_version": "1.5.0",
            "_model_name": "ProgressStyleModel",
            "_view_count": null,
            "_view_module": "@jupyter-widgets/base",
            "_view_module_version": "1.2.0",
            "_view_name": "StyleView",
            "bar_color": null,
            "description_width": ""
          }
        },
        "589d57ddb66b4a268687ac695f0299ed": {
          "model_module": "@jupyter-widgets/base",
          "model_name": "LayoutModel",
          "model_module_version": "1.2.0",
          "state": {
            "_model_module": "@jupyter-widgets/base",
            "_model_module_version": "1.2.0",
            "_model_name": "LayoutModel",
            "_view_count": null,
            "_view_module": "@jupyter-widgets/base",
            "_view_module_version": "1.2.0",
            "_view_name": "LayoutView",
            "align_content": null,
            "align_items": null,
            "align_self": null,
            "border": null,
            "bottom": null,
            "display": null,
            "flex": null,
            "flex_flow": null,
            "grid_area": null,
            "grid_auto_columns": null,
            "grid_auto_flow": null,
            "grid_auto_rows": null,
            "grid_column": null,
            "grid_gap": null,
            "grid_row": null,
            "grid_template_areas": null,
            "grid_template_columns": null,
            "grid_template_rows": null,
            "height": null,
            "justify_content": null,
            "justify_items": null,
            "left": null,
            "margin": null,
            "max_height": null,
            "max_width": null,
            "min_height": null,
            "min_width": null,
            "object_fit": null,
            "object_position": null,
            "order": null,
            "overflow": null,
            "overflow_x": null,
            "overflow_y": null,
            "padding": null,
            "right": null,
            "top": null,
            "visibility": null,
            "width": null
          }
        },
        "7b3fb3bce9fe4b69bc7f5093599882fd": {
          "model_module": "@jupyter-widgets/controls",
          "model_name": "DescriptionStyleModel",
          "model_module_version": "1.5.0",
          "state": {
            "_model_module": "@jupyter-widgets/controls",
            "_model_module_version": "1.5.0",
            "_model_name": "DescriptionStyleModel",
            "_view_count": null,
            "_view_module": "@jupyter-widgets/base",
            "_view_module_version": "1.2.0",
            "_view_name": "StyleView",
            "description_width": ""
          }
        },
        "41af8b4598374e79ba82b2b3988a504f": {
          "model_module": "@jupyter-widgets/controls",
          "model_name": "HBoxModel",
          "model_module_version": "1.5.0",
          "state": {
            "_dom_classes": [],
            "_model_module": "@jupyter-widgets/controls",
            "_model_module_version": "1.5.0",
            "_model_name": "HBoxModel",
            "_view_count": null,
            "_view_module": "@jupyter-widgets/controls",
            "_view_module_version": "1.5.0",
            "_view_name": "HBoxView",
            "box_style": "",
            "children": [
              "IPY_MODEL_a8209b93263546d592ab895c264a40de",
              "IPY_MODEL_a8e19cbb96b44bfe911d7f08923cc253",
              "IPY_MODEL_31b3e076cd2e4174b725e2cdbd5e34c3"
            ],
            "layout": "IPY_MODEL_3415b7f8edc844b9855dbe7fca6cf812"
          }
        },
        "a8209b93263546d592ab895c264a40de": {
          "model_module": "@jupyter-widgets/controls",
          "model_name": "HTMLModel",
          "model_module_version": "1.5.0",
          "state": {
            "_dom_classes": [],
            "_model_module": "@jupyter-widgets/controls",
            "_model_module_version": "1.5.0",
            "_model_name": "HTMLModel",
            "_view_count": null,
            "_view_module": "@jupyter-widgets/controls",
            "_view_module_version": "1.5.0",
            "_view_name": "HTMLView",
            "description": "",
            "description_tooltip": null,
            "layout": "IPY_MODEL_cd48047f6bf7428196d2cd4845865b5f",
            "placeholder": "​",
            "style": "IPY_MODEL_337ccccb49e34dbbb7545633dc5e58d5",
            "value": "Downloading (…)lve/main/config.json: 100%"
          }
        },
        "a8e19cbb96b44bfe911d7f08923cc253": {
          "model_module": "@jupyter-widgets/controls",
          "model_name": "FloatProgressModel",
          "model_module_version": "1.5.0",
          "state": {
            "_dom_classes": [],
            "_model_module": "@jupyter-widgets/controls",
            "_model_module_version": "1.5.0",
            "_model_name": "FloatProgressModel",
            "_view_count": null,
            "_view_module": "@jupyter-widgets/controls",
            "_view_module_version": "1.5.0",
            "_view_name": "ProgressView",
            "bar_style": "success",
            "description": "",
            "description_tooltip": null,
            "layout": "IPY_MODEL_041a5d239e714f48a9abf68441b5b927",
            "max": 385,
            "min": 0,
            "orientation": "horizontal",
            "style": "IPY_MODEL_fcd2295bddb24d4bbb393cebbd07229f",
            "value": 385
          }
        },
        "31b3e076cd2e4174b725e2cdbd5e34c3": {
          "model_module": "@jupyter-widgets/controls",
          "model_name": "HTMLModel",
          "model_module_version": "1.5.0",
          "state": {
            "_dom_classes": [],
            "_model_module": "@jupyter-widgets/controls",
            "_model_module_version": "1.5.0",
            "_model_name": "HTMLModel",
            "_view_count": null,
            "_view_module": "@jupyter-widgets/controls",
            "_view_module_version": "1.5.0",
            "_view_name": "HTMLView",
            "description": "",
            "description_tooltip": null,
            "layout": "IPY_MODEL_82a0488025b848a6b14c13829ff22449",
            "placeholder": "​",
            "style": "IPY_MODEL_e8174b7df5ba42dbb1748e679ebfd09f",
            "value": " 385/385 [00:00&lt;00:00, 28.8kB/s]"
          }
        },
        "3415b7f8edc844b9855dbe7fca6cf812": {
          "model_module": "@jupyter-widgets/base",
          "model_name": "LayoutModel",
          "model_module_version": "1.2.0",
          "state": {
            "_model_module": "@jupyter-widgets/base",
            "_model_module_version": "1.2.0",
            "_model_name": "LayoutModel",
            "_view_count": null,
            "_view_module": "@jupyter-widgets/base",
            "_view_module_version": "1.2.0",
            "_view_name": "LayoutView",
            "align_content": null,
            "align_items": null,
            "align_self": null,
            "border": null,
            "bottom": null,
            "display": null,
            "flex": null,
            "flex_flow": null,
            "grid_area": null,
            "grid_auto_columns": null,
            "grid_auto_flow": null,
            "grid_auto_rows": null,
            "grid_column": null,
            "grid_gap": null,
            "grid_row": null,
            "grid_template_areas": null,
            "grid_template_columns": null,
            "grid_template_rows": null,
            "height": null,
            "justify_content": null,
            "justify_items": null,
            "left": null,
            "margin": null,
            "max_height": null,
            "max_width": null,
            "min_height": null,
            "min_width": null,
            "object_fit": null,
            "object_position": null,
            "order": null,
            "overflow": null,
            "overflow_x": null,
            "overflow_y": null,
            "padding": null,
            "right": null,
            "top": null,
            "visibility": null,
            "width": null
          }
        },
        "cd48047f6bf7428196d2cd4845865b5f": {
          "model_module": "@jupyter-widgets/base",
          "model_name": "LayoutModel",
          "model_module_version": "1.2.0",
          "state": {
            "_model_module": "@jupyter-widgets/base",
            "_model_module_version": "1.2.0",
            "_model_name": "LayoutModel",
            "_view_count": null,
            "_view_module": "@jupyter-widgets/base",
            "_view_module_version": "1.2.0",
            "_view_name": "LayoutView",
            "align_content": null,
            "align_items": null,
            "align_self": null,
            "border": null,
            "bottom": null,
            "display": null,
            "flex": null,
            "flex_flow": null,
            "grid_area": null,
            "grid_auto_columns": null,
            "grid_auto_flow": null,
            "grid_auto_rows": null,
            "grid_column": null,
            "grid_gap": null,
            "grid_row": null,
            "grid_template_areas": null,
            "grid_template_columns": null,
            "grid_template_rows": null,
            "height": null,
            "justify_content": null,
            "justify_items": null,
            "left": null,
            "margin": null,
            "max_height": null,
            "max_width": null,
            "min_height": null,
            "min_width": null,
            "object_fit": null,
            "object_position": null,
            "order": null,
            "overflow": null,
            "overflow_x": null,
            "overflow_y": null,
            "padding": null,
            "right": null,
            "top": null,
            "visibility": null,
            "width": null
          }
        },
        "337ccccb49e34dbbb7545633dc5e58d5": {
          "model_module": "@jupyter-widgets/controls",
          "model_name": "DescriptionStyleModel",
          "model_module_version": "1.5.0",
          "state": {
            "_model_module": "@jupyter-widgets/controls",
            "_model_module_version": "1.5.0",
            "_model_name": "DescriptionStyleModel",
            "_view_count": null,
            "_view_module": "@jupyter-widgets/base",
            "_view_module_version": "1.2.0",
            "_view_name": "StyleView",
            "description_width": ""
          }
        },
        "041a5d239e714f48a9abf68441b5b927": {
          "model_module": "@jupyter-widgets/base",
          "model_name": "LayoutModel",
          "model_module_version": "1.2.0",
          "state": {
            "_model_module": "@jupyter-widgets/base",
            "_model_module_version": "1.2.0",
            "_model_name": "LayoutModel",
            "_view_count": null,
            "_view_module": "@jupyter-widgets/base",
            "_view_module_version": "1.2.0",
            "_view_name": "LayoutView",
            "align_content": null,
            "align_items": null,
            "align_self": null,
            "border": null,
            "bottom": null,
            "display": null,
            "flex": null,
            "flex_flow": null,
            "grid_area": null,
            "grid_auto_columns": null,
            "grid_auto_flow": null,
            "grid_auto_rows": null,
            "grid_column": null,
            "grid_gap": null,
            "grid_row": null,
            "grid_template_areas": null,
            "grid_template_columns": null,
            "grid_template_rows": null,
            "height": null,
            "justify_content": null,
            "justify_items": null,
            "left": null,
            "margin": null,
            "max_height": null,
            "max_width": null,
            "min_height": null,
            "min_width": null,
            "object_fit": null,
            "object_position": null,
            "order": null,
            "overflow": null,
            "overflow_x": null,
            "overflow_y": null,
            "padding": null,
            "right": null,
            "top": null,
            "visibility": null,
            "width": null
          }
        },
        "fcd2295bddb24d4bbb393cebbd07229f": {
          "model_module": "@jupyter-widgets/controls",
          "model_name": "ProgressStyleModel",
          "model_module_version": "1.5.0",
          "state": {
            "_model_module": "@jupyter-widgets/controls",
            "_model_module_version": "1.5.0",
            "_model_name": "ProgressStyleModel",
            "_view_count": null,
            "_view_module": "@jupyter-widgets/base",
            "_view_module_version": "1.2.0",
            "_view_name": "StyleView",
            "bar_color": null,
            "description_width": ""
          }
        },
        "82a0488025b848a6b14c13829ff22449": {
          "model_module": "@jupyter-widgets/base",
          "model_name": "LayoutModel",
          "model_module_version": "1.2.0",
          "state": {
            "_model_module": "@jupyter-widgets/base",
            "_model_module_version": "1.2.0",
            "_model_name": "LayoutModel",
            "_view_count": null,
            "_view_module": "@jupyter-widgets/base",
            "_view_module_version": "1.2.0",
            "_view_name": "LayoutView",
            "align_content": null,
            "align_items": null,
            "align_self": null,
            "border": null,
            "bottom": null,
            "display": null,
            "flex": null,
            "flex_flow": null,
            "grid_area": null,
            "grid_auto_columns": null,
            "grid_auto_flow": null,
            "grid_auto_rows": null,
            "grid_column": null,
            "grid_gap": null,
            "grid_row": null,
            "grid_template_areas": null,
            "grid_template_columns": null,
            "grid_template_rows": null,
            "height": null,
            "justify_content": null,
            "justify_items": null,
            "left": null,
            "margin": null,
            "max_height": null,
            "max_width": null,
            "min_height": null,
            "min_width": null,
            "object_fit": null,
            "object_position": null,
            "order": null,
            "overflow": null,
            "overflow_x": null,
            "overflow_y": null,
            "padding": null,
            "right": null,
            "top": null,
            "visibility": null,
            "width": null
          }
        },
        "e8174b7df5ba42dbb1748e679ebfd09f": {
          "model_module": "@jupyter-widgets/controls",
          "model_name": "DescriptionStyleModel",
          "model_module_version": "1.5.0",
          "state": {
            "_model_module": "@jupyter-widgets/controls",
            "_model_module_version": "1.5.0",
            "_model_name": "DescriptionStyleModel",
            "_view_count": null,
            "_view_module": "@jupyter-widgets/base",
            "_view_module_version": "1.2.0",
            "_view_name": "StyleView",
            "description_width": ""
          }
        },
        "dbed4df9b73e4ebc91646801d100de92": {
          "model_module": "@jupyter-widgets/controls",
          "model_name": "HBoxModel",
          "model_module_version": "1.5.0",
          "state": {
            "_dom_classes": [],
            "_model_module": "@jupyter-widgets/controls",
            "_model_module_version": "1.5.0",
            "_model_name": "HBoxModel",
            "_view_count": null,
            "_view_module": "@jupyter-widgets/controls",
            "_view_module_version": "1.5.0",
            "_view_name": "HBoxView",
            "box_style": "",
            "children": [
              "IPY_MODEL_dc35cee462f24b04866729e8404d702d",
              "IPY_MODEL_175b396cd8644f2eb574a64d68220615",
              "IPY_MODEL_8685519f94624773a7274ecad19517f4"
            ],
            "layout": "IPY_MODEL_1ddfa090630f431cb542813749e9ce45"
          }
        },
        "dc35cee462f24b04866729e8404d702d": {
          "model_module": "@jupyter-widgets/controls",
          "model_name": "HTMLModel",
          "model_module_version": "1.5.0",
          "state": {
            "_dom_classes": [],
            "_model_module": "@jupyter-widgets/controls",
            "_model_module_version": "1.5.0",
            "_model_name": "HTMLModel",
            "_view_count": null,
            "_view_module": "@jupyter-widgets/controls",
            "_view_module_version": "1.5.0",
            "_view_name": "HTMLView",
            "description": "",
            "description_tooltip": null,
            "layout": "IPY_MODEL_3e465d48aa7645fa9bf1dd8b2f2c046e",
            "placeholder": "​",
            "style": "IPY_MODEL_33eba3d8ed3e41659cec9ac1e726b6da",
            "value": "Downloading pytorch_model.bin: 100%"
          }
        },
        "175b396cd8644f2eb574a64d68220615": {
          "model_module": "@jupyter-widgets/controls",
          "model_name": "FloatProgressModel",
          "model_module_version": "1.5.0",
          "state": {
            "_dom_classes": [],
            "_model_module": "@jupyter-widgets/controls",
            "_model_module_version": "1.5.0",
            "_model_name": "FloatProgressModel",
            "_view_count": null,
            "_view_module": "@jupyter-widgets/controls",
            "_view_module_version": "1.5.0",
            "_view_name": "ProgressView",
            "bar_style": "success",
            "description": "",
            "description_tooltip": null,
            "layout": "IPY_MODEL_007d4f8b72a940288679a75aa3037459",
            "max": 442221694,
            "min": 0,
            "orientation": "horizontal",
            "style": "IPY_MODEL_4fc6590ed828482a82192f0a09626325",
            "value": 442221694
          }
        },
        "8685519f94624773a7274ecad19517f4": {
          "model_module": "@jupyter-widgets/controls",
          "model_name": "HTMLModel",
          "model_module_version": "1.5.0",
          "state": {
            "_dom_classes": [],
            "_model_module": "@jupyter-widgets/controls",
            "_model_module_version": "1.5.0",
            "_model_name": "HTMLModel",
            "_view_count": null,
            "_view_module": "@jupyter-widgets/controls",
            "_view_module_version": "1.5.0",
            "_view_name": "HTMLView",
            "description": "",
            "description_tooltip": null,
            "layout": "IPY_MODEL_d770ffee89734ef3b0fd1a6269bb5a36",
            "placeholder": "​",
            "style": "IPY_MODEL_292f7aed7dea4fd4b385c01c86a816f4",
            "value": " 442M/442M [00:14&lt;00:00, 30.8MB/s]"
          }
        },
        "1ddfa090630f431cb542813749e9ce45": {
          "model_module": "@jupyter-widgets/base",
          "model_name": "LayoutModel",
          "model_module_version": "1.2.0",
          "state": {
            "_model_module": "@jupyter-widgets/base",
            "_model_module_version": "1.2.0",
            "_model_name": "LayoutModel",
            "_view_count": null,
            "_view_module": "@jupyter-widgets/base",
            "_view_module_version": "1.2.0",
            "_view_name": "LayoutView",
            "align_content": null,
            "align_items": null,
            "align_self": null,
            "border": null,
            "bottom": null,
            "display": null,
            "flex": null,
            "flex_flow": null,
            "grid_area": null,
            "grid_auto_columns": null,
            "grid_auto_flow": null,
            "grid_auto_rows": null,
            "grid_column": null,
            "grid_gap": null,
            "grid_row": null,
            "grid_template_areas": null,
            "grid_template_columns": null,
            "grid_template_rows": null,
            "height": null,
            "justify_content": null,
            "justify_items": null,
            "left": null,
            "margin": null,
            "max_height": null,
            "max_width": null,
            "min_height": null,
            "min_width": null,
            "object_fit": null,
            "object_position": null,
            "order": null,
            "overflow": null,
            "overflow_x": null,
            "overflow_y": null,
            "padding": null,
            "right": null,
            "top": null,
            "visibility": null,
            "width": null
          }
        },
        "3e465d48aa7645fa9bf1dd8b2f2c046e": {
          "model_module": "@jupyter-widgets/base",
          "model_name": "LayoutModel",
          "model_module_version": "1.2.0",
          "state": {
            "_model_module": "@jupyter-widgets/base",
            "_model_module_version": "1.2.0",
            "_model_name": "LayoutModel",
            "_view_count": null,
            "_view_module": "@jupyter-widgets/base",
            "_view_module_version": "1.2.0",
            "_view_name": "LayoutView",
            "align_content": null,
            "align_items": null,
            "align_self": null,
            "border": null,
            "bottom": null,
            "display": null,
            "flex": null,
            "flex_flow": null,
            "grid_area": null,
            "grid_auto_columns": null,
            "grid_auto_flow": null,
            "grid_auto_rows": null,
            "grid_column": null,
            "grid_gap": null,
            "grid_row": null,
            "grid_template_areas": null,
            "grid_template_columns": null,
            "grid_template_rows": null,
            "height": null,
            "justify_content": null,
            "justify_items": null,
            "left": null,
            "margin": null,
            "max_height": null,
            "max_width": null,
            "min_height": null,
            "min_width": null,
            "object_fit": null,
            "object_position": null,
            "order": null,
            "overflow": null,
            "overflow_x": null,
            "overflow_y": null,
            "padding": null,
            "right": null,
            "top": null,
            "visibility": null,
            "width": null
          }
        },
        "33eba3d8ed3e41659cec9ac1e726b6da": {
          "model_module": "@jupyter-widgets/controls",
          "model_name": "DescriptionStyleModel",
          "model_module_version": "1.5.0",
          "state": {
            "_model_module": "@jupyter-widgets/controls",
            "_model_module_version": "1.5.0",
            "_model_name": "DescriptionStyleModel",
            "_view_count": null,
            "_view_module": "@jupyter-widgets/base",
            "_view_module_version": "1.2.0",
            "_view_name": "StyleView",
            "description_width": ""
          }
        },
        "007d4f8b72a940288679a75aa3037459": {
          "model_module": "@jupyter-widgets/base",
          "model_name": "LayoutModel",
          "model_module_version": "1.2.0",
          "state": {
            "_model_module": "@jupyter-widgets/base",
            "_model_module_version": "1.2.0",
            "_model_name": "LayoutModel",
            "_view_count": null,
            "_view_module": "@jupyter-widgets/base",
            "_view_module_version": "1.2.0",
            "_view_name": "LayoutView",
            "align_content": null,
            "align_items": null,
            "align_self": null,
            "border": null,
            "bottom": null,
            "display": null,
            "flex": null,
            "flex_flow": null,
            "grid_area": null,
            "grid_auto_columns": null,
            "grid_auto_flow": null,
            "grid_auto_rows": null,
            "grid_column": null,
            "grid_gap": null,
            "grid_row": null,
            "grid_template_areas": null,
            "grid_template_columns": null,
            "grid_template_rows": null,
            "height": null,
            "justify_content": null,
            "justify_items": null,
            "left": null,
            "margin": null,
            "max_height": null,
            "max_width": null,
            "min_height": null,
            "min_width": null,
            "object_fit": null,
            "object_position": null,
            "order": null,
            "overflow": null,
            "overflow_x": null,
            "overflow_y": null,
            "padding": null,
            "right": null,
            "top": null,
            "visibility": null,
            "width": null
          }
        },
        "4fc6590ed828482a82192f0a09626325": {
          "model_module": "@jupyter-widgets/controls",
          "model_name": "ProgressStyleModel",
          "model_module_version": "1.5.0",
          "state": {
            "_model_module": "@jupyter-widgets/controls",
            "_model_module_version": "1.5.0",
            "_model_name": "ProgressStyleModel",
            "_view_count": null,
            "_view_module": "@jupyter-widgets/base",
            "_view_module_version": "1.2.0",
            "_view_name": "StyleView",
            "bar_color": null,
            "description_width": ""
          }
        },
        "d770ffee89734ef3b0fd1a6269bb5a36": {
          "model_module": "@jupyter-widgets/base",
          "model_name": "LayoutModel",
          "model_module_version": "1.2.0",
          "state": {
            "_model_module": "@jupyter-widgets/base",
            "_model_module_version": "1.2.0",
            "_model_name": "LayoutModel",
            "_view_count": null,
            "_view_module": "@jupyter-widgets/base",
            "_view_module_version": "1.2.0",
            "_view_name": "LayoutView",
            "align_content": null,
            "align_items": null,
            "align_self": null,
            "border": null,
            "bottom": null,
            "display": null,
            "flex": null,
            "flex_flow": null,
            "grid_area": null,
            "grid_auto_columns": null,
            "grid_auto_flow": null,
            "grid_auto_rows": null,
            "grid_column": null,
            "grid_gap": null,
            "grid_row": null,
            "grid_template_areas": null,
            "grid_template_columns": null,
            "grid_template_rows": null,
            "height": null,
            "justify_content": null,
            "justify_items": null,
            "left": null,
            "margin": null,
            "max_height": null,
            "max_width": null,
            "min_height": null,
            "min_width": null,
            "object_fit": null,
            "object_position": null,
            "order": null,
            "overflow": null,
            "overflow_x": null,
            "overflow_y": null,
            "padding": null,
            "right": null,
            "top": null,
            "visibility": null,
            "width": null
          }
        },
        "292f7aed7dea4fd4b385c01c86a816f4": {
          "model_module": "@jupyter-widgets/controls",
          "model_name": "DescriptionStyleModel",
          "model_module_version": "1.5.0",
          "state": {
            "_model_module": "@jupyter-widgets/controls",
            "_model_module_version": "1.5.0",
            "_model_name": "DescriptionStyleModel",
            "_view_count": null,
            "_view_module": "@jupyter-widgets/base",
            "_view_module_version": "1.2.0",
            "_view_name": "StyleView",
            "description_width": ""
          }
        }
      }
    }
  },
  "cells": [
    {
      "cell_type": "code",
      "source": [
        "!pip install transformers\n",
        "!pip install contractions\n",
        "!pip install pyspellchecker"
      ],
      "metadata": {
        "colab": {
          "base_uri": "https://localhost:8080/"
        },
        "id": "5HLnO6QnPij_",
        "outputId": "8b479ecb-b651-4cfa-9f19-dd9869086545"
      },
      "execution_count": 1,
      "outputs": [
        {
          "output_type": "stream",
          "name": "stdout",
          "text": [
            "Collecting transformers\n",
            "  Downloading transformers-4.34.1-py3-none-any.whl (7.7 MB)\n",
            "\u001b[2K     \u001b[90m━━━━━━━━━━━━━━━━━━━━━━━━━━━━━━━━━━━━━━━━\u001b[0m \u001b[32m7.7/7.7 MB\u001b[0m \u001b[31m63.7 MB/s\u001b[0m eta \u001b[36m0:00:00\u001b[0m\n",
            "\u001b[?25hRequirement already satisfied: filelock in /usr/local/lib/python3.10/dist-packages (from transformers) (3.12.4)\n",
            "Collecting huggingface-hub<1.0,>=0.16.4 (from transformers)\n",
            "  Downloading huggingface_hub-0.18.0-py3-none-any.whl (301 kB)\n",
            "\u001b[2K     \u001b[90m━━━━━━━━━━━━━━━━━━━━━━━━━━━━━━━━━━━━━━━━\u001b[0m \u001b[32m302.0/302.0 kB\u001b[0m \u001b[31m33.5 MB/s\u001b[0m eta \u001b[36m0:00:00\u001b[0m\n",
            "\u001b[?25hRequirement already satisfied: numpy>=1.17 in /usr/local/lib/python3.10/dist-packages (from transformers) (1.23.5)\n",
            "Requirement already satisfied: packaging>=20.0 in /usr/local/lib/python3.10/dist-packages (from transformers) (23.2)\n",
            "Requirement already satisfied: pyyaml>=5.1 in /usr/local/lib/python3.10/dist-packages (from transformers) (6.0.1)\n",
            "Requirement already satisfied: regex!=2019.12.17 in /usr/local/lib/python3.10/dist-packages (from transformers) (2023.6.3)\n",
            "Requirement already satisfied: requests in /usr/local/lib/python3.10/dist-packages (from transformers) (2.31.0)\n",
            "Collecting tokenizers<0.15,>=0.14 (from transformers)\n",
            "  Downloading tokenizers-0.14.1-cp310-cp310-manylinux_2_17_x86_64.manylinux2014_x86_64.whl (3.8 MB)\n",
            "\u001b[2K     \u001b[90m━━━━━━━━━━━━━━━━━━━━━━━━━━━━━━━━━━━━━━━━\u001b[0m \u001b[32m3.8/3.8 MB\u001b[0m \u001b[31m93.1 MB/s\u001b[0m eta \u001b[36m0:00:00\u001b[0m\n",
            "\u001b[?25hCollecting safetensors>=0.3.1 (from transformers)\n",
            "  Downloading safetensors-0.4.0-cp310-cp310-manylinux_2_17_x86_64.manylinux2014_x86_64.whl (1.3 MB)\n",
            "\u001b[2K     \u001b[90m━━━━━━━━━━━━━━━━━━━━━━━━━━━━━━━━━━━━━━━━\u001b[0m \u001b[32m1.3/1.3 MB\u001b[0m \u001b[31m71.6 MB/s\u001b[0m eta \u001b[36m0:00:00\u001b[0m\n",
            "\u001b[?25hRequirement already satisfied: tqdm>=4.27 in /usr/local/lib/python3.10/dist-packages (from transformers) (4.66.1)\n",
            "Requirement already satisfied: fsspec>=2023.5.0 in /usr/local/lib/python3.10/dist-packages (from huggingface-hub<1.0,>=0.16.4->transformers) (2023.6.0)\n",
            "Requirement already satisfied: typing-extensions>=3.7.4.3 in /usr/local/lib/python3.10/dist-packages (from huggingface-hub<1.0,>=0.16.4->transformers) (4.5.0)\n",
            "Collecting huggingface-hub<1.0,>=0.16.4 (from transformers)\n",
            "  Downloading huggingface_hub-0.17.3-py3-none-any.whl (295 kB)\n",
            "\u001b[2K     \u001b[90m━━━━━━━━━━━━━━━━━━━━━━━━━━━━━━━━━━━━━━━━\u001b[0m \u001b[32m295.0/295.0 kB\u001b[0m \u001b[31m33.0 MB/s\u001b[0m eta \u001b[36m0:00:00\u001b[0m\n",
            "\u001b[?25hRequirement already satisfied: charset-normalizer<4,>=2 in /usr/local/lib/python3.10/dist-packages (from requests->transformers) (3.3.0)\n",
            "Requirement already satisfied: idna<4,>=2.5 in /usr/local/lib/python3.10/dist-packages (from requests->transformers) (3.4)\n",
            "Requirement already satisfied: urllib3<3,>=1.21.1 in /usr/local/lib/python3.10/dist-packages (from requests->transformers) (2.0.7)\n",
            "Requirement already satisfied: certifi>=2017.4.17 in /usr/local/lib/python3.10/dist-packages (from requests->transformers) (2023.7.22)\n",
            "Installing collected packages: safetensors, huggingface-hub, tokenizers, transformers\n",
            "Successfully installed huggingface-hub-0.17.3 safetensors-0.4.0 tokenizers-0.14.1 transformers-4.34.1\n",
            "Collecting contractions\n",
            "  Downloading contractions-0.1.73-py2.py3-none-any.whl (8.7 kB)\n",
            "Collecting textsearch>=0.0.21 (from contractions)\n",
            "  Downloading textsearch-0.0.24-py2.py3-none-any.whl (7.6 kB)\n",
            "Collecting anyascii (from textsearch>=0.0.21->contractions)\n",
            "  Downloading anyascii-0.3.2-py3-none-any.whl (289 kB)\n",
            "\u001b[2K     \u001b[90m━━━━━━━━━━━━━━━━━━━━━━━━━━━━━━━━━━━━━━━━\u001b[0m \u001b[32m289.9/289.9 kB\u001b[0m \u001b[31m7.0 MB/s\u001b[0m eta \u001b[36m0:00:00\u001b[0m\n",
            "\u001b[?25hCollecting pyahocorasick (from textsearch>=0.0.21->contractions)\n",
            "  Downloading pyahocorasick-2.0.0-cp310-cp310-manylinux_2_5_x86_64.manylinux1_x86_64.manylinux_2_12_x86_64.manylinux2010_x86_64.whl (110 kB)\n",
            "\u001b[2K     \u001b[90m━━━━━━━━━━━━━━━━━━━━━━━━━━━━━━━━━━━━━━━━\u001b[0m \u001b[32m110.8/110.8 kB\u001b[0m \u001b[31m11.0 MB/s\u001b[0m eta \u001b[36m0:00:00\u001b[0m\n",
            "\u001b[?25hInstalling collected packages: pyahocorasick, anyascii, textsearch, contractions\n",
            "Successfully installed anyascii-0.3.2 contractions-0.1.73 pyahocorasick-2.0.0 textsearch-0.0.24\n",
            "Collecting pyspellchecker\n",
            "  Downloading pyspellchecker-0.7.2-py3-none-any.whl (3.4 MB)\n",
            "\u001b[2K     \u001b[90m━━━━━━━━━━━━━━━━━━━━━━━━━━━━━━━━━━━━━━━━\u001b[0m \u001b[32m3.4/3.4 MB\u001b[0m \u001b[31m44.8 MB/s\u001b[0m eta \u001b[36m0:00:00\u001b[0m\n",
            "\u001b[?25hInstalling collected packages: pyspellchecker\n",
            "Successfully installed pyspellchecker-0.7.2\n"
          ]
        }
      ]
    },
    {
      "cell_type": "code",
      "execution_count": 2,
      "metadata": {
        "id": "qhz5aj7y24zA"
      },
      "outputs": [],
      "source": [
        "import os\n",
        "import pandas as pd\n",
        "import torch\n",
        "from transformers import BertTokenizer, BertModel\n",
        "import pickle\n",
        "import sklearn\n",
        "from sklearn.feature_extraction.text import TfidfVectorizer\n",
        "from nltk.corpus import stopwords\n",
        "import string\n",
        "import re\n",
        "import nltk\n",
        "import contractions\n",
        "from nltk.tokenize import word_tokenize\n",
        "from spellchecker import SpellChecker\n",
        "from nltk.stem import PorterStemmer, SnowballStemmer, LancasterStemmer, WordNetLemmatizer"
      ]
    },
    {
      "cell_type": "code",
      "source": [
        "df = pd.read_csv(\"/content/Extracted_dataset.csv\")\n",
        "df.head()"
      ],
      "metadata": {
        "colab": {
          "base_uri": "https://localhost:8080/",
          "height": 206
        },
        "id": "dIH41Lp2OBUz",
        "outputId": "04a0ca25-58c8-4d8f-c740-110c0e9e781f"
      },
      "execution_count": 3,
      "outputs": [
        {
          "output_type": "execute_result",
          "data": {
            "text/plain": [
              "   0   document                                              title  \\\n",
              "0  0   doc4.pdf  MATERIALS ISSUES OF LOADING DEUTERIUM INTO PAL...   \n",
              "1  1  doc15.pdf                                             ICCF-7   \n",
              "2  2  doc16.pdf  Nuclear Physics Approach Anomalous Phenomena i...   \n",
              "3  3   doc5.pdf  Excess Heat Production and Nuclear Ash in PdO/...   \n",
              "4  4  doc14.pdf  SEARCH FOR COHERENT DEUTERON FUSION BY BEAM AN...   \n",
              "\n",
              "                                            abstract  \n",
              "0  \\nthe ability of palladium cathodes to attain ...  \n",
              "1  \\nlow energy (l-300kev) deuterium ion beam imp...  \n",
              "2  \\nimplantation experiments of very low energy ...  \n",
              "3  \\nheat production nuclear ash and electrophysi...  \n",
              "4  ] procedures and results of three kinds of exp...  "
            ],
            "text/html": [
              "\n",
              "  <div id=\"df-722cabff-532a-4e1b-8940-49b824a86754\" class=\"colab-df-container\">\n",
              "    <div>\n",
              "<style scoped>\n",
              "    .dataframe tbody tr th:only-of-type {\n",
              "        vertical-align: middle;\n",
              "    }\n",
              "\n",
              "    .dataframe tbody tr th {\n",
              "        vertical-align: top;\n",
              "    }\n",
              "\n",
              "    .dataframe thead th {\n",
              "        text-align: right;\n",
              "    }\n",
              "</style>\n",
              "<table border=\"1\" class=\"dataframe\">\n",
              "  <thead>\n",
              "    <tr style=\"text-align: right;\">\n",
              "      <th></th>\n",
              "      <th>0</th>\n",
              "      <th>document</th>\n",
              "      <th>title</th>\n",
              "      <th>abstract</th>\n",
              "    </tr>\n",
              "  </thead>\n",
              "  <tbody>\n",
              "    <tr>\n",
              "      <th>0</th>\n",
              "      <td>0</td>\n",
              "      <td>doc4.pdf</td>\n",
              "      <td>MATERIALS ISSUES OF LOADING DEUTERIUM INTO PAL...</td>\n",
              "      <td>\\nthe ability of palladium cathodes to attain ...</td>\n",
              "    </tr>\n",
              "    <tr>\n",
              "      <th>1</th>\n",
              "      <td>1</td>\n",
              "      <td>doc15.pdf</td>\n",
              "      <td>ICCF-7</td>\n",
              "      <td>\\nlow energy (l-300kev) deuterium ion beam imp...</td>\n",
              "    </tr>\n",
              "    <tr>\n",
              "      <th>2</th>\n",
              "      <td>2</td>\n",
              "      <td>doc16.pdf</td>\n",
              "      <td>Nuclear Physics Approach Anomalous Phenomena i...</td>\n",
              "      <td>\\nimplantation experiments of very low energy ...</td>\n",
              "    </tr>\n",
              "    <tr>\n",
              "      <th>3</th>\n",
              "      <td>3</td>\n",
              "      <td>doc5.pdf</td>\n",
              "      <td>Excess Heat Production and Nuclear Ash in PdO/...</td>\n",
              "      <td>\\nheat production nuclear ash and electrophysi...</td>\n",
              "    </tr>\n",
              "    <tr>\n",
              "      <th>4</th>\n",
              "      <td>4</td>\n",
              "      <td>doc14.pdf</td>\n",
              "      <td>SEARCH FOR COHERENT DEUTERON FUSION BY BEAM AN...</td>\n",
              "      <td>] procedures and results of three kinds of exp...</td>\n",
              "    </tr>\n",
              "  </tbody>\n",
              "</table>\n",
              "</div>\n",
              "    <div class=\"colab-df-buttons\">\n",
              "\n",
              "  <div class=\"colab-df-container\">\n",
              "    <button class=\"colab-df-convert\" onclick=\"convertToInteractive('df-722cabff-532a-4e1b-8940-49b824a86754')\"\n",
              "            title=\"Convert this dataframe to an interactive table.\"\n",
              "            style=\"display:none;\">\n",
              "\n",
              "  <svg xmlns=\"http://www.w3.org/2000/svg\" height=\"24px\" viewBox=\"0 -960 960 960\">\n",
              "    <path d=\"M120-120v-720h720v720H120Zm60-500h600v-160H180v160Zm220 220h160v-160H400v160Zm0 220h160v-160H400v160ZM180-400h160v-160H180v160Zm440 0h160v-160H620v160ZM180-180h160v-160H180v160Zm440 0h160v-160H620v160Z\"/>\n",
              "  </svg>\n",
              "    </button>\n",
              "\n",
              "  <style>\n",
              "    .colab-df-container {\n",
              "      display:flex;\n",
              "      gap: 12px;\n",
              "    }\n",
              "\n",
              "    .colab-df-convert {\n",
              "      background-color: #E8F0FE;\n",
              "      border: none;\n",
              "      border-radius: 50%;\n",
              "      cursor: pointer;\n",
              "      display: none;\n",
              "      fill: #1967D2;\n",
              "      height: 32px;\n",
              "      padding: 0 0 0 0;\n",
              "      width: 32px;\n",
              "    }\n",
              "\n",
              "    .colab-df-convert:hover {\n",
              "      background-color: #E2EBFA;\n",
              "      box-shadow: 0px 1px 2px rgba(60, 64, 67, 0.3), 0px 1px 3px 1px rgba(60, 64, 67, 0.15);\n",
              "      fill: #174EA6;\n",
              "    }\n",
              "\n",
              "    .colab-df-buttons div {\n",
              "      margin-bottom: 4px;\n",
              "    }\n",
              "\n",
              "    [theme=dark] .colab-df-convert {\n",
              "      background-color: #3B4455;\n",
              "      fill: #D2E3FC;\n",
              "    }\n",
              "\n",
              "    [theme=dark] .colab-df-convert:hover {\n",
              "      background-color: #434B5C;\n",
              "      box-shadow: 0px 1px 3px 1px rgba(0, 0, 0, 0.15);\n",
              "      filter: drop-shadow(0px 1px 2px rgba(0, 0, 0, 0.3));\n",
              "      fill: #FFFFFF;\n",
              "    }\n",
              "  </style>\n",
              "\n",
              "    <script>\n",
              "      const buttonEl =\n",
              "        document.querySelector('#df-722cabff-532a-4e1b-8940-49b824a86754 button.colab-df-convert');\n",
              "      buttonEl.style.display =\n",
              "        google.colab.kernel.accessAllowed ? 'block' : 'none';\n",
              "\n",
              "      async function convertToInteractive(key) {\n",
              "        const element = document.querySelector('#df-722cabff-532a-4e1b-8940-49b824a86754');\n",
              "        const dataTable =\n",
              "          await google.colab.kernel.invokeFunction('convertToInteractive',\n",
              "                                                    [key], {});\n",
              "        if (!dataTable) return;\n",
              "\n",
              "        const docLinkHtml = 'Like what you see? Visit the ' +\n",
              "          '<a target=\"_blank\" href=https://colab.research.google.com/notebooks/data_table.ipynb>data table notebook</a>'\n",
              "          + ' to learn more about interactive tables.';\n",
              "        element.innerHTML = '';\n",
              "        dataTable['output_type'] = 'display_data';\n",
              "        await google.colab.output.renderOutput(dataTable, element);\n",
              "        const docLink = document.createElement('div');\n",
              "        docLink.innerHTML = docLinkHtml;\n",
              "        element.appendChild(docLink);\n",
              "      }\n",
              "    </script>\n",
              "  </div>\n",
              "\n",
              "\n",
              "<div id=\"df-2a63b88f-446c-449b-9802-57d4f0ecc991\">\n",
              "  <button class=\"colab-df-quickchart\" onclick=\"quickchart('df-2a63b88f-446c-449b-9802-57d4f0ecc991')\"\n",
              "            title=\"Suggest charts.\"\n",
              "            style=\"display:none;\">\n",
              "\n",
              "<svg xmlns=\"http://www.w3.org/2000/svg\" height=\"24px\"viewBox=\"0 0 24 24\"\n",
              "     width=\"24px\">\n",
              "    <g>\n",
              "        <path d=\"M19 3H5c-1.1 0-2 .9-2 2v14c0 1.1.9 2 2 2h14c1.1 0 2-.9 2-2V5c0-1.1-.9-2-2-2zM9 17H7v-7h2v7zm4 0h-2V7h2v10zm4 0h-2v-4h2v4z\"/>\n",
              "    </g>\n",
              "</svg>\n",
              "  </button>\n",
              "\n",
              "<style>\n",
              "  .colab-df-quickchart {\n",
              "      --bg-color: #E8F0FE;\n",
              "      --fill-color: #1967D2;\n",
              "      --hover-bg-color: #E2EBFA;\n",
              "      --hover-fill-color: #174EA6;\n",
              "      --disabled-fill-color: #AAA;\n",
              "      --disabled-bg-color: #DDD;\n",
              "  }\n",
              "\n",
              "  [theme=dark] .colab-df-quickchart {\n",
              "      --bg-color: #3B4455;\n",
              "      --fill-color: #D2E3FC;\n",
              "      --hover-bg-color: #434B5C;\n",
              "      --hover-fill-color: #FFFFFF;\n",
              "      --disabled-bg-color: #3B4455;\n",
              "      --disabled-fill-color: #666;\n",
              "  }\n",
              "\n",
              "  .colab-df-quickchart {\n",
              "    background-color: var(--bg-color);\n",
              "    border: none;\n",
              "    border-radius: 50%;\n",
              "    cursor: pointer;\n",
              "    display: none;\n",
              "    fill: var(--fill-color);\n",
              "    height: 32px;\n",
              "    padding: 0;\n",
              "    width: 32px;\n",
              "  }\n",
              "\n",
              "  .colab-df-quickchart:hover {\n",
              "    background-color: var(--hover-bg-color);\n",
              "    box-shadow: 0 1px 2px rgba(60, 64, 67, 0.3), 0 1px 3px 1px rgba(60, 64, 67, 0.15);\n",
              "    fill: var(--button-hover-fill-color);\n",
              "  }\n",
              "\n",
              "  .colab-df-quickchart-complete:disabled,\n",
              "  .colab-df-quickchart-complete:disabled:hover {\n",
              "    background-color: var(--disabled-bg-color);\n",
              "    fill: var(--disabled-fill-color);\n",
              "    box-shadow: none;\n",
              "  }\n",
              "\n",
              "  .colab-df-spinner {\n",
              "    border: 2px solid var(--fill-color);\n",
              "    border-color: transparent;\n",
              "    border-bottom-color: var(--fill-color);\n",
              "    animation:\n",
              "      spin 1s steps(1) infinite;\n",
              "  }\n",
              "\n",
              "  @keyframes spin {\n",
              "    0% {\n",
              "      border-color: transparent;\n",
              "      border-bottom-color: var(--fill-color);\n",
              "      border-left-color: var(--fill-color);\n",
              "    }\n",
              "    20% {\n",
              "      border-color: transparent;\n",
              "      border-left-color: var(--fill-color);\n",
              "      border-top-color: var(--fill-color);\n",
              "    }\n",
              "    30% {\n",
              "      border-color: transparent;\n",
              "      border-left-color: var(--fill-color);\n",
              "      border-top-color: var(--fill-color);\n",
              "      border-right-color: var(--fill-color);\n",
              "    }\n",
              "    40% {\n",
              "      border-color: transparent;\n",
              "      border-right-color: var(--fill-color);\n",
              "      border-top-color: var(--fill-color);\n",
              "    }\n",
              "    60% {\n",
              "      border-color: transparent;\n",
              "      border-right-color: var(--fill-color);\n",
              "    }\n",
              "    80% {\n",
              "      border-color: transparent;\n",
              "      border-right-color: var(--fill-color);\n",
              "      border-bottom-color: var(--fill-color);\n",
              "    }\n",
              "    90% {\n",
              "      border-color: transparent;\n",
              "      border-bottom-color: var(--fill-color);\n",
              "    }\n",
              "  }\n",
              "</style>\n",
              "\n",
              "  <script>\n",
              "    async function quickchart(key) {\n",
              "      const quickchartButtonEl =\n",
              "        document.querySelector('#' + key + ' button');\n",
              "      quickchartButtonEl.disabled = true;  // To prevent multiple clicks.\n",
              "      quickchartButtonEl.classList.add('colab-df-spinner');\n",
              "      try {\n",
              "        const charts = await google.colab.kernel.invokeFunction(\n",
              "            'suggestCharts', [key], {});\n",
              "      } catch (error) {\n",
              "        console.error('Error during call to suggestCharts:', error);\n",
              "      }\n",
              "      quickchartButtonEl.classList.remove('colab-df-spinner');\n",
              "      quickchartButtonEl.classList.add('colab-df-quickchart-complete');\n",
              "    }\n",
              "    (() => {\n",
              "      let quickchartButtonEl =\n",
              "        document.querySelector('#df-2a63b88f-446c-449b-9802-57d4f0ecc991 button');\n",
              "      quickchartButtonEl.style.display =\n",
              "        google.colab.kernel.accessAllowed ? 'block' : 'none';\n",
              "    })();\n",
              "  </script>\n",
              "</div>\n",
              "    </div>\n",
              "  </div>\n"
            ]
          },
          "metadata": {},
          "execution_count": 3
        }
      ]
    },
    {
      "cell_type": "code",
      "source": [
        "nltk.download('wordnet')\n",
        "nltk.download('stopwords')\n",
        "nltk.download('punkt')\n",
        "stop_words = set(stopwords.words('english'))"
      ],
      "metadata": {
        "colab": {
          "base_uri": "https://localhost:8080/"
        },
        "id": "GLWVlhbQF33K",
        "outputId": "3b5e68ea-3bb5-4e3c-97bd-c24be9821f98"
      },
      "execution_count": 4,
      "outputs": [
        {
          "output_type": "stream",
          "name": "stderr",
          "text": [
            "[nltk_data] Downloading package wordnet to /root/nltk_data...\n",
            "[nltk_data] Downloading package stopwords to /root/nltk_data...\n",
            "[nltk_data]   Unzipping corpora/stopwords.zip.\n",
            "[nltk_data] Downloading package punkt to /root/nltk_data...\n",
            "[nltk_data]   Unzipping tokenizers/punkt.zip.\n"
          ]
        }
      ]
    },
    {
      "cell_type": "code",
      "source": [
        "def preprocess_text(text):\n",
        "  text = text.lower()\n",
        "  text = re.sub('\\d+', '', text)\n",
        "  # remove punctuations\n",
        "  punctuations = string.punctuation\n",
        "  text = text.translate(str.maketrans('', '', punctuations))\n",
        "  # remove special characters\n",
        "  special_characters = 'å¼«¥ª°©ð±§µæ¹¢³¿®ä£'\n",
        "  text = text.translate(str.maketrans('', '', special_characters))\n",
        "  # Expand contractions\n",
        "  text = contractions.fix(text)\n",
        "  # remove stopwords\n",
        "  tokens = word_tokenize(text)\n",
        "  tokens = [token for token in tokens if token not in stop_words]\n",
        "  # Spellcheck\n",
        "  spelling_checker = SpellChecker(language=\"en\", distance=1)\n",
        "  #spelling_checker.word_frequency.load_text_file(\"ignore_spellcheck_words.txt\")\n",
        "  misspelled = spelling_checker.unknown(tokens)\n",
        "  for word in misspelled:\n",
        "    temp = spelling_checker.correction(word)\n",
        "    if temp:\n",
        "      tokens[tokens.index(word)] = temp\n",
        "  # Lemmatization\n",
        "  lemmatizer = WordNetLemmatizer()\n",
        "  processed_tokens = [lemmatizer.lemmatize(token) for token in tokens]\n",
        "  text = \" \".join(processed_tokens)\n",
        "  # remove white space\n",
        "  text = \" \".join(text.split()).strip()\n",
        "\n",
        "  return text"
      ],
      "metadata": {
        "id": "AeljKbNbE-j9"
      },
      "execution_count": 7,
      "outputs": []
    },
    {
      "cell_type": "code",
      "source": [
        "df['abstract'] = df['abstract'].apply(preprocess_text)\n",
        "df.head()"
      ],
      "metadata": {
        "colab": {
          "base_uri": "https://localhost:8080/",
          "height": 206
        },
        "id": "AA0vS8YpE-aH",
        "outputId": "994e0ab8-e4ce-4563-af59-e926a4172d7a"
      },
      "execution_count": 8,
      "outputs": [
        {
          "output_type": "execute_result",
          "data": {
            "text/plain": [
              "   0   document                                              title  \\\n",
              "0  0   doc4.pdf  MATERIALS ISSUES OF LOADING DEUTERIUM INTO PAL...   \n",
              "1  1  doc15.pdf                                             ICCF-7   \n",
              "2  2  doc16.pdf  Nuclear Physics Approach Anomalous Phenomena i...   \n",
              "3  3   doc5.pdf  Excess Heat Production and Nuclear Ash in PdO/...   \n",
              "4  4  doc14.pdf  SEARCH FOR COHERENT DEUTERON FUSION BY BEAM AN...   \n",
              "\n",
              "                                            abstract  \n",
              "0  ability palladium cathode attain maintain high...  \n",
              "1  low energy lke deuterium ion beam implantation...  \n",
              "2  implantation experiment low energy lke eke hyd...  \n",
              "3  heat production nuclear ash electrophysical pr...  \n",
              "4  procedure result three kind experiment ie clos...  "
            ],
            "text/html": [
              "\n",
              "  <div id=\"df-043348f7-7899-4348-8b0a-5d73f4b13c76\" class=\"colab-df-container\">\n",
              "    <div>\n",
              "<style scoped>\n",
              "    .dataframe tbody tr th:only-of-type {\n",
              "        vertical-align: middle;\n",
              "    }\n",
              "\n",
              "    .dataframe tbody tr th {\n",
              "        vertical-align: top;\n",
              "    }\n",
              "\n",
              "    .dataframe thead th {\n",
              "        text-align: right;\n",
              "    }\n",
              "</style>\n",
              "<table border=\"1\" class=\"dataframe\">\n",
              "  <thead>\n",
              "    <tr style=\"text-align: right;\">\n",
              "      <th></th>\n",
              "      <th>0</th>\n",
              "      <th>document</th>\n",
              "      <th>title</th>\n",
              "      <th>abstract</th>\n",
              "    </tr>\n",
              "  </thead>\n",
              "  <tbody>\n",
              "    <tr>\n",
              "      <th>0</th>\n",
              "      <td>0</td>\n",
              "      <td>doc4.pdf</td>\n",
              "      <td>MATERIALS ISSUES OF LOADING DEUTERIUM INTO PAL...</td>\n",
              "      <td>ability palladium cathode attain maintain high...</td>\n",
              "    </tr>\n",
              "    <tr>\n",
              "      <th>1</th>\n",
              "      <td>1</td>\n",
              "      <td>doc15.pdf</td>\n",
              "      <td>ICCF-7</td>\n",
              "      <td>low energy lke deuterium ion beam implantation...</td>\n",
              "    </tr>\n",
              "    <tr>\n",
              "      <th>2</th>\n",
              "      <td>2</td>\n",
              "      <td>doc16.pdf</td>\n",
              "      <td>Nuclear Physics Approach Anomalous Phenomena i...</td>\n",
              "      <td>implantation experiment low energy lke eke hyd...</td>\n",
              "    </tr>\n",
              "    <tr>\n",
              "      <th>3</th>\n",
              "      <td>3</td>\n",
              "      <td>doc5.pdf</td>\n",
              "      <td>Excess Heat Production and Nuclear Ash in PdO/...</td>\n",
              "      <td>heat production nuclear ash electrophysical pr...</td>\n",
              "    </tr>\n",
              "    <tr>\n",
              "      <th>4</th>\n",
              "      <td>4</td>\n",
              "      <td>doc14.pdf</td>\n",
              "      <td>SEARCH FOR COHERENT DEUTERON FUSION BY BEAM AN...</td>\n",
              "      <td>procedure result three kind experiment ie clos...</td>\n",
              "    </tr>\n",
              "  </tbody>\n",
              "</table>\n",
              "</div>\n",
              "    <div class=\"colab-df-buttons\">\n",
              "\n",
              "  <div class=\"colab-df-container\">\n",
              "    <button class=\"colab-df-convert\" onclick=\"convertToInteractive('df-043348f7-7899-4348-8b0a-5d73f4b13c76')\"\n",
              "            title=\"Convert this dataframe to an interactive table.\"\n",
              "            style=\"display:none;\">\n",
              "\n",
              "  <svg xmlns=\"http://www.w3.org/2000/svg\" height=\"24px\" viewBox=\"0 -960 960 960\">\n",
              "    <path d=\"M120-120v-720h720v720H120Zm60-500h600v-160H180v160Zm220 220h160v-160H400v160Zm0 220h160v-160H400v160ZM180-400h160v-160H180v160Zm440 0h160v-160H620v160ZM180-180h160v-160H180v160Zm440 0h160v-160H620v160Z\"/>\n",
              "  </svg>\n",
              "    </button>\n",
              "\n",
              "  <style>\n",
              "    .colab-df-container {\n",
              "      display:flex;\n",
              "      gap: 12px;\n",
              "    }\n",
              "\n",
              "    .colab-df-convert {\n",
              "      background-color: #E8F0FE;\n",
              "      border: none;\n",
              "      border-radius: 50%;\n",
              "      cursor: pointer;\n",
              "      display: none;\n",
              "      fill: #1967D2;\n",
              "      height: 32px;\n",
              "      padding: 0 0 0 0;\n",
              "      width: 32px;\n",
              "    }\n",
              "\n",
              "    .colab-df-convert:hover {\n",
              "      background-color: #E2EBFA;\n",
              "      box-shadow: 0px 1px 2px rgba(60, 64, 67, 0.3), 0px 1px 3px 1px rgba(60, 64, 67, 0.15);\n",
              "      fill: #174EA6;\n",
              "    }\n",
              "\n",
              "    .colab-df-buttons div {\n",
              "      margin-bottom: 4px;\n",
              "    }\n",
              "\n",
              "    [theme=dark] .colab-df-convert {\n",
              "      background-color: #3B4455;\n",
              "      fill: #D2E3FC;\n",
              "    }\n",
              "\n",
              "    [theme=dark] .colab-df-convert:hover {\n",
              "      background-color: #434B5C;\n",
              "      box-shadow: 0px 1px 3px 1px rgba(0, 0, 0, 0.15);\n",
              "      filter: drop-shadow(0px 1px 2px rgba(0, 0, 0, 0.3));\n",
              "      fill: #FFFFFF;\n",
              "    }\n",
              "  </style>\n",
              "\n",
              "    <script>\n",
              "      const buttonEl =\n",
              "        document.querySelector('#df-043348f7-7899-4348-8b0a-5d73f4b13c76 button.colab-df-convert');\n",
              "      buttonEl.style.display =\n",
              "        google.colab.kernel.accessAllowed ? 'block' : 'none';\n",
              "\n",
              "      async function convertToInteractive(key) {\n",
              "        const element = document.querySelector('#df-043348f7-7899-4348-8b0a-5d73f4b13c76');\n",
              "        const dataTable =\n",
              "          await google.colab.kernel.invokeFunction('convertToInteractive',\n",
              "                                                    [key], {});\n",
              "        if (!dataTable) return;\n",
              "\n",
              "        const docLinkHtml = 'Like what you see? Visit the ' +\n",
              "          '<a target=\"_blank\" href=https://colab.research.google.com/notebooks/data_table.ipynb>data table notebook</a>'\n",
              "          + ' to learn more about interactive tables.';\n",
              "        element.innerHTML = '';\n",
              "        dataTable['output_type'] = 'display_data';\n",
              "        await google.colab.output.renderOutput(dataTable, element);\n",
              "        const docLink = document.createElement('div');\n",
              "        docLink.innerHTML = docLinkHtml;\n",
              "        element.appendChild(docLink);\n",
              "      }\n",
              "    </script>\n",
              "  </div>\n",
              "\n",
              "\n",
              "<div id=\"df-45061f02-0560-4b8d-828e-22ccbc69fdce\">\n",
              "  <button class=\"colab-df-quickchart\" onclick=\"quickchart('df-45061f02-0560-4b8d-828e-22ccbc69fdce')\"\n",
              "            title=\"Suggest charts.\"\n",
              "            style=\"display:none;\">\n",
              "\n",
              "<svg xmlns=\"http://www.w3.org/2000/svg\" height=\"24px\"viewBox=\"0 0 24 24\"\n",
              "     width=\"24px\">\n",
              "    <g>\n",
              "        <path d=\"M19 3H5c-1.1 0-2 .9-2 2v14c0 1.1.9 2 2 2h14c1.1 0 2-.9 2-2V5c0-1.1-.9-2-2-2zM9 17H7v-7h2v7zm4 0h-2V7h2v10zm4 0h-2v-4h2v4z\"/>\n",
              "    </g>\n",
              "</svg>\n",
              "  </button>\n",
              "\n",
              "<style>\n",
              "  .colab-df-quickchart {\n",
              "      --bg-color: #E8F0FE;\n",
              "      --fill-color: #1967D2;\n",
              "      --hover-bg-color: #E2EBFA;\n",
              "      --hover-fill-color: #174EA6;\n",
              "      --disabled-fill-color: #AAA;\n",
              "      --disabled-bg-color: #DDD;\n",
              "  }\n",
              "\n",
              "  [theme=dark] .colab-df-quickchart {\n",
              "      --bg-color: #3B4455;\n",
              "      --fill-color: #D2E3FC;\n",
              "      --hover-bg-color: #434B5C;\n",
              "      --hover-fill-color: #FFFFFF;\n",
              "      --disabled-bg-color: #3B4455;\n",
              "      --disabled-fill-color: #666;\n",
              "  }\n",
              "\n",
              "  .colab-df-quickchart {\n",
              "    background-color: var(--bg-color);\n",
              "    border: none;\n",
              "    border-radius: 50%;\n",
              "    cursor: pointer;\n",
              "    display: none;\n",
              "    fill: var(--fill-color);\n",
              "    height: 32px;\n",
              "    padding: 0;\n",
              "    width: 32px;\n",
              "  }\n",
              "\n",
              "  .colab-df-quickchart:hover {\n",
              "    background-color: var(--hover-bg-color);\n",
              "    box-shadow: 0 1px 2px rgba(60, 64, 67, 0.3), 0 1px 3px 1px rgba(60, 64, 67, 0.15);\n",
              "    fill: var(--button-hover-fill-color);\n",
              "  }\n",
              "\n",
              "  .colab-df-quickchart-complete:disabled,\n",
              "  .colab-df-quickchart-complete:disabled:hover {\n",
              "    background-color: var(--disabled-bg-color);\n",
              "    fill: var(--disabled-fill-color);\n",
              "    box-shadow: none;\n",
              "  }\n",
              "\n",
              "  .colab-df-spinner {\n",
              "    border: 2px solid var(--fill-color);\n",
              "    border-color: transparent;\n",
              "    border-bottom-color: var(--fill-color);\n",
              "    animation:\n",
              "      spin 1s steps(1) infinite;\n",
              "  }\n",
              "\n",
              "  @keyframes spin {\n",
              "    0% {\n",
              "      border-color: transparent;\n",
              "      border-bottom-color: var(--fill-color);\n",
              "      border-left-color: var(--fill-color);\n",
              "    }\n",
              "    20% {\n",
              "      border-color: transparent;\n",
              "      border-left-color: var(--fill-color);\n",
              "      border-top-color: var(--fill-color);\n",
              "    }\n",
              "    30% {\n",
              "      border-color: transparent;\n",
              "      border-left-color: var(--fill-color);\n",
              "      border-top-color: var(--fill-color);\n",
              "      border-right-color: var(--fill-color);\n",
              "    }\n",
              "    40% {\n",
              "      border-color: transparent;\n",
              "      border-right-color: var(--fill-color);\n",
              "      border-top-color: var(--fill-color);\n",
              "    }\n",
              "    60% {\n",
              "      border-color: transparent;\n",
              "      border-right-color: var(--fill-color);\n",
              "    }\n",
              "    80% {\n",
              "      border-color: transparent;\n",
              "      border-right-color: var(--fill-color);\n",
              "      border-bottom-color: var(--fill-color);\n",
              "    }\n",
              "    90% {\n",
              "      border-color: transparent;\n",
              "      border-bottom-color: var(--fill-color);\n",
              "    }\n",
              "  }\n",
              "</style>\n",
              "\n",
              "  <script>\n",
              "    async function quickchart(key) {\n",
              "      const quickchartButtonEl =\n",
              "        document.querySelector('#' + key + ' button');\n",
              "      quickchartButtonEl.disabled = true;  // To prevent multiple clicks.\n",
              "      quickchartButtonEl.classList.add('colab-df-spinner');\n",
              "      try {\n",
              "        const charts = await google.colab.kernel.invokeFunction(\n",
              "            'suggestCharts', [key], {});\n",
              "      } catch (error) {\n",
              "        console.error('Error during call to suggestCharts:', error);\n",
              "      }\n",
              "      quickchartButtonEl.classList.remove('colab-df-spinner');\n",
              "      quickchartButtonEl.classList.add('colab-df-quickchart-complete');\n",
              "    }\n",
              "    (() => {\n",
              "      let quickchartButtonEl =\n",
              "        document.querySelector('#df-45061f02-0560-4b8d-828e-22ccbc69fdce button');\n",
              "      quickchartButtonEl.style.display =\n",
              "        google.colab.kernel.accessAllowed ? 'block' : 'none';\n",
              "    })();\n",
              "  </script>\n",
              "</div>\n",
              "    </div>\n",
              "  </div>\n"
            ]
          },
          "metadata": {},
          "execution_count": 8
        }
      ]
    },
    {
      "cell_type": "code",
      "source": [],
      "metadata": {
        "id": "DrdkASZLH2cT"
      },
      "execution_count": null,
      "outputs": []
    },
    {
      "cell_type": "markdown",
      "source": [
        "# BERT"
      ],
      "metadata": {
        "id": "MsbrJowfzPKF"
      }
    },
    {
      "cell_type": "code",
      "source": [
        "device = 'cuda' if torch.cuda.is_available() else 'cpu'\n",
        "device"
      ],
      "metadata": {
        "colab": {
          "base_uri": "https://localhost:8080/",
          "height": 35
        },
        "id": "Bs0gpT77R0dR",
        "outputId": "9a9f95d6-3f00-4edb-d3df-c328079d07fd"
      },
      "execution_count": 9,
      "outputs": [
        {
          "output_type": "execute_result",
          "data": {
            "text/plain": [
              "'cpu'"
            ],
            "application/vnd.google.colaboratory.intrinsic+json": {
              "type": "string"
            }
          },
          "metadata": {},
          "execution_count": 9
        }
      ]
    },
    {
      "cell_type": "code",
      "source": [
        "model_name = \"allenai/scibert_scivocab_uncased\" # 'bert-base-uncased'\n",
        "tokenizer = BertTokenizer.from_pretrained(model_name)\n",
        "model = BertModel.from_pretrained(model_name).to(device)\n",
        "model.eval()"
      ],
      "metadata": {
        "colab": {
          "base_uri": "https://localhost:8080/",
          "height": 845,
          "referenced_widgets": [
            "1faefdf9db17418c81a6bff773f128ad",
            "4eb42f1f870b4b3c9f1d5d92a2fb1ad2",
            "694b1a8f4e274558a4a84d03503fec35",
            "3f625d95b0984ef98fc0febb514e3220",
            "b2ef56b5000b4f23a946b8db75cc2ffe",
            "53d8c64ce0534537a5e3c1c5e5323111",
            "3fe9b99a55ae46c08b20e93793a803bc",
            "c6435d134ddf4a84b50e8094542ebf9c",
            "f482591eed874aaa9ab783277ace02ee",
            "589d57ddb66b4a268687ac695f0299ed",
            "7b3fb3bce9fe4b69bc7f5093599882fd",
            "41af8b4598374e79ba82b2b3988a504f",
            "a8209b93263546d592ab895c264a40de",
            "a8e19cbb96b44bfe911d7f08923cc253",
            "31b3e076cd2e4174b725e2cdbd5e34c3",
            "3415b7f8edc844b9855dbe7fca6cf812",
            "cd48047f6bf7428196d2cd4845865b5f",
            "337ccccb49e34dbbb7545633dc5e58d5",
            "041a5d239e714f48a9abf68441b5b927",
            "fcd2295bddb24d4bbb393cebbd07229f",
            "82a0488025b848a6b14c13829ff22449",
            "e8174b7df5ba42dbb1748e679ebfd09f",
            "dbed4df9b73e4ebc91646801d100de92",
            "dc35cee462f24b04866729e8404d702d",
            "175b396cd8644f2eb574a64d68220615",
            "8685519f94624773a7274ecad19517f4",
            "1ddfa090630f431cb542813749e9ce45",
            "3e465d48aa7645fa9bf1dd8b2f2c046e",
            "33eba3d8ed3e41659cec9ac1e726b6da",
            "007d4f8b72a940288679a75aa3037459",
            "4fc6590ed828482a82192f0a09626325",
            "d770ffee89734ef3b0fd1a6269bb5a36",
            "292f7aed7dea4fd4b385c01c86a816f4"
          ]
        },
        "id": "Qb5O9yjFV6rU",
        "outputId": "4d620bb3-934d-432e-b5be-c92ae02f4862"
      },
      "execution_count": 10,
      "outputs": [
        {
          "output_type": "display_data",
          "data": {
            "text/plain": [
              "Downloading (…)solve/main/vocab.txt:   0%|          | 0.00/228k [00:00<?, ?B/s]"
            ],
            "application/vnd.jupyter.widget-view+json": {
              "version_major": 2,
              "version_minor": 0,
              "model_id": "1faefdf9db17418c81a6bff773f128ad"
            }
          },
          "metadata": {}
        },
        {
          "output_type": "display_data",
          "data": {
            "text/plain": [
              "Downloading (…)lve/main/config.json:   0%|          | 0.00/385 [00:00<?, ?B/s]"
            ],
            "application/vnd.jupyter.widget-view+json": {
              "version_major": 2,
              "version_minor": 0,
              "model_id": "41af8b4598374e79ba82b2b3988a504f"
            }
          },
          "metadata": {}
        },
        {
          "output_type": "display_data",
          "data": {
            "text/plain": [
              "Downloading pytorch_model.bin:   0%|          | 0.00/442M [00:00<?, ?B/s]"
            ],
            "application/vnd.jupyter.widget-view+json": {
              "version_major": 2,
              "version_minor": 0,
              "model_id": "dbed4df9b73e4ebc91646801d100de92"
            }
          },
          "metadata": {}
        },
        {
          "output_type": "execute_result",
          "data": {
            "text/plain": [
              "BertModel(\n",
              "  (embeddings): BertEmbeddings(\n",
              "    (word_embeddings): Embedding(31090, 768, padding_idx=0)\n",
              "    (position_embeddings): Embedding(512, 768)\n",
              "    (token_type_embeddings): Embedding(2, 768)\n",
              "    (LayerNorm): LayerNorm((768,), eps=1e-12, elementwise_affine=True)\n",
              "    (dropout): Dropout(p=0.1, inplace=False)\n",
              "  )\n",
              "  (encoder): BertEncoder(\n",
              "    (layer): ModuleList(\n",
              "      (0-11): 12 x BertLayer(\n",
              "        (attention): BertAttention(\n",
              "          (self): BertSelfAttention(\n",
              "            (query): Linear(in_features=768, out_features=768, bias=True)\n",
              "            (key): Linear(in_features=768, out_features=768, bias=True)\n",
              "            (value): Linear(in_features=768, out_features=768, bias=True)\n",
              "            (dropout): Dropout(p=0.1, inplace=False)\n",
              "          )\n",
              "          (output): BertSelfOutput(\n",
              "            (dense): Linear(in_features=768, out_features=768, bias=True)\n",
              "            (LayerNorm): LayerNorm((768,), eps=1e-12, elementwise_affine=True)\n",
              "            (dropout): Dropout(p=0.1, inplace=False)\n",
              "          )\n",
              "        )\n",
              "        (intermediate): BertIntermediate(\n",
              "          (dense): Linear(in_features=768, out_features=3072, bias=True)\n",
              "          (intermediate_act_fn): GELUActivation()\n",
              "        )\n",
              "        (output): BertOutput(\n",
              "          (dense): Linear(in_features=3072, out_features=768, bias=True)\n",
              "          (LayerNorm): LayerNorm((768,), eps=1e-12, elementwise_affine=True)\n",
              "          (dropout): Dropout(p=0.1, inplace=False)\n",
              "        )\n",
              "      )\n",
              "    )\n",
              "  )\n",
              "  (pooler): BertPooler(\n",
              "    (dense): Linear(in_features=768, out_features=768, bias=True)\n",
              "    (activation): Tanh()\n",
              "  )\n",
              ")"
            ]
          },
          "metadata": {},
          "execution_count": 10
        }
      ]
    },
    {
      "cell_type": "code",
      "source": [
        "for n, row in df.iterrows():\n",
        "  print(row[\"document\"])\n",
        "  text = row[\"title\"] + \" \" + row[\"abstract\"]\n",
        "  inputs = tokenizer(text, padding=True, truncation=True, return_tensors=\"pt\").to(device)\n",
        "  # print(inputs)\n",
        "  print(text)\n",
        "  print(tokenizer.tokenize(text))\n",
        "  break"
      ],
      "metadata": {
        "colab": {
          "base_uri": "https://localhost:8080/"
        },
        "id": "BGt6U0o7V3eK",
        "outputId": "f42f887a-7672-41ce-dcb1-aa1d23119e1b"
      },
      "execution_count": 11,
      "outputs": [
        {
          "output_type": "stream",
          "name": "stderr",
          "text": [
            "Asking to truncate to max_length but no maximum length is provided and the model has no predefined maximum length. Default to no truncation.\n"
          ]
        },
        {
          "output_type": "stream",
          "name": "stdout",
          "text": [
            "doc4.pdf\n",
            "MATERIALS ISSUES OF LOADING DEUTERIUM INTO PALLADIUM AND THE ASSOCIATION WITH EXCESS HEAT PRODUCTION M.C.H. McKubre and F. L. Tanzella SRI International, 333 Ravenswood Avenue, Menlo Park, CA Abstract The ability of palladium cathodes to attain and maintain high loading levels, at high ability palladium cathode attain maintain high loading level high current density long time controlled two factor condition electrochemical interface allows attainment high deuterium activity defect density mechanical condition bulk material permit ad lattice withstand contain high bulk deuterium activity equilibrate produce extreme pressure deuterium gas inside closed incipient void within metal example given set intentionally similar current ramp show three distinct mode loading performance mode linear decrease pd resistance beyond resistance maximum logarithmic increase electrochemical current mode i initial loglinear decrease mode trajectory followed rapid increase resistance resistance fall critical value mode i shallow decrease resistance approximately symmetric increase log current density increased beyond threshold value similar mode b mode frequently associated appearance calorimetrically determined excess heat\n",
            "['materials', 'issues', 'of', 'loading', 'deuter', '##ium', 'into', 'pall', '##adium', 'and', 'the', 'association', 'with', 'excess', 'heat', 'production', 'm', '.', 'c', '.', 'h', '.', 'mck', '##ub', '##re', 'and', 'f', '.', 'l', '.', 'tanz', '##ella', 'sri', 'international', ',', '333', 'rav', '##ens', '##wood', 'avenue', ',', 'men', '##lo', 'park', ',', 'ca', 'abstract', 'the', 'ability', 'of', 'pall', '##adium', 'cathode', '##s', 'to', 'attain', 'and', 'maintain', 'high', 'loading', 'levels', ',', 'at', 'high', 'ability', 'pall', '##adium', 'cathode', 'attain', 'maintain', 'high', 'loading', 'level', 'high', 'current', 'density', 'long', 'time', 'controlled', 'two', 'factor', 'condition', 'electrochemical', 'interface', 'allows', 'attainment', 'high', 'deuter', '##ium', 'activity', 'defect', 'density', 'mechanical', 'condition', 'bulk', 'material', 'permit', 'ad', 'lattice', 'with', '##stand', 'contain', 'high', 'bulk', 'deuter', '##ium', 'activity', 'equil', '##ibr', '##ate', 'produce', 'extreme', 'pressure', 'deuter', '##ium', 'gas', 'inside', 'closed', 'inc', '##ip', '##ient', 'void', 'within', 'metal', 'example', 'given', 'set', 'intentionally', 'similar', 'current', 'ramp', 'show', 'three', 'distinct', 'mode', 'loading', 'performance', 'mode', 'linear', 'decrease', 'pd', 'resistance', 'beyond', 'resistance', 'maximum', 'logarithmic', 'increase', 'electrochemical', 'current', 'mode', 'i', 'initial', 'log', '##linear', 'decrease', 'mode', 'trajectory', 'followed', 'rapid', 'increase', 'resistance', 'resistance', 'fall', 'critical', 'value', 'mode', 'i', 'shallow', 'decrease', 'resistance', 'approximately', 'symmetric', 'increase', 'log', 'current', 'density', 'increased', 'beyond', 'threshold', 'value', 'similar', 'mode', 'b', 'mode', 'frequently', 'associated', 'appearance', 'calor', '##imetric', '##ally', 'determined', 'excess', 'heat']\n"
          ]
        }
      ]
    },
    {
      "cell_type": "code",
      "source": [
        "res = {}\n",
        "for n, row in df.iterrows():\n",
        "  print(row[\"document\"])\n",
        "  text = row[\"title\"] + \" \" + row[\"abstract\"]\n",
        "  inputs = tokenizer(text, padding=True, truncation=True, max_length=512, return_tensors=\"pt\").to(device)\n",
        "  outputs = model(**inputs)\n",
        "  embeddings = outputs.pooler_output\n",
        "  print(embeddings.shape)\n",
        "  res[row[\"document\"]] = embeddings\n",
        "  # embeddings.shape"
      ],
      "metadata": {
        "colab": {
          "base_uri": "https://localhost:8080/"
        },
        "id": "PeDaEYyHQdot",
        "outputId": "6f30fb1c-2af7-463a-ddc9-a59c620a859e"
      },
      "execution_count": 12,
      "outputs": [
        {
          "output_type": "stream",
          "name": "stdout",
          "text": [
            "doc4.pdf\n",
            "torch.Size([1, 768])\n",
            "doc15.pdf\n",
            "torch.Size([1, 768])\n",
            "doc16.pdf\n",
            "torch.Size([1, 768])\n",
            "doc5.pdf\n",
            "torch.Size([1, 768])\n",
            "doc14.pdf\n",
            "torch.Size([1, 768])\n",
            "doc9.pdf\n",
            "torch.Size([1, 768])\n",
            "doc12.pdf\n",
            "torch.Size([1, 768])\n",
            "doc32.pdf\n",
            "torch.Size([1, 768])\n",
            "doc25.pdf\n",
            "torch.Size([1, 768])\n",
            "doc1.pdf\n",
            "torch.Size([1, 768])\n",
            "doc28.pdf\n",
            "torch.Size([1, 768])\n",
            "doc11.pdf\n",
            "torch.Size([1, 768])\n",
            "doc8.pdf\n",
            "torch.Size([1, 768])\n",
            "doc7.pdf\n",
            "torch.Size([1, 768])\n",
            "doc31.pdf\n",
            "torch.Size([1, 768])\n",
            "doc27.pdf\n",
            "torch.Size([1, 768])\n",
            "doc3.pdf\n",
            "torch.Size([1, 768])\n",
            "doc18.pdf\n",
            "torch.Size([1, 768])\n",
            "doc17.pdf\n",
            "torch.Size([1, 768])\n",
            "doc23.pdf\n",
            "torch.Size([1, 768])\n",
            "doc22.pdf\n",
            "torch.Size([1, 768])\n",
            "doc26.pdf\n",
            "torch.Size([1, 768])\n",
            "doc20.pdf\n",
            "torch.Size([1, 768])\n",
            "doc30.pdf\n",
            "torch.Size([1, 768])\n",
            "doc29.pdf\n",
            "torch.Size([1, 768])\n",
            "doc24.pdf\n",
            "torch.Size([1, 768])\n",
            "doc2.pdf\n",
            "torch.Size([1, 768])\n",
            "doc13.pdf\n",
            "torch.Size([1, 768])\n",
            "doc19.pdf\n",
            "torch.Size([1, 768])\n",
            "doc10.pdf\n",
            "torch.Size([1, 768])\n"
          ]
        }
      ]
    },
    {
      "cell_type": "code",
      "source": [
        "with open('bert_doc_embeddings.pkl', 'wb') as pkl:\n",
        "    pickle.dump(res, pkl)"
      ],
      "metadata": {
        "id": "8TrfMVsOPUrp"
      },
      "execution_count": 13,
      "outputs": []
    },
    {
      "cell_type": "code",
      "source": [
        "doc_embeddings = None\n",
        "with open('bert_doc_embeddings.pkl', 'rb') as pkl:\n",
        "    doc_embeddings = pickle.load(pkl)\n",
        "    print(list(doc_embeddings.keys()))\n",
        "    print(doc_embeddings[\"doc1.pdf\"].shape)"
      ],
      "metadata": {
        "colab": {
          "base_uri": "https://localhost:8080/"
        },
        "id": "MtIXZ2EnPSnr",
        "outputId": "fc2dca89-52d3-4190-b464-cac830c3e278"
      },
      "execution_count": 14,
      "outputs": [
        {
          "output_type": "stream",
          "name": "stdout",
          "text": [
            "['doc4.pdf', 'doc15.pdf', 'doc16.pdf', 'doc5.pdf', 'doc14.pdf', 'doc9.pdf', 'doc12.pdf', 'doc32.pdf', 'doc25.pdf', 'doc1.pdf', 'doc28.pdf', 'doc11.pdf', 'doc8.pdf', 'doc7.pdf', 'doc31.pdf', 'doc27.pdf', 'doc3.pdf', 'doc18.pdf', 'doc17.pdf', 'doc23.pdf', 'doc22.pdf', 'doc26.pdf', 'doc20.pdf', 'doc30.pdf', 'doc29.pdf', 'doc24.pdf', 'doc2.pdf', 'doc13.pdf', 'doc19.pdf', 'doc10.pdf']\n",
            "torch.Size([1, 768])\n"
          ]
        }
      ]
    },
    {
      "cell_type": "markdown",
      "source": [
        "### scibert"
      ],
      "metadata": {
        "id": "dZUNAa5KzZoD"
      }
    },
    {
      "cell_type": "code",
      "source": [
        "for i in list(doc_embeddings.keys()):\n",
        "  if \"doc1\" in i:\n",
        "    continue\n",
        "  output = torch.nn.functional.cosine_similarity(doc_embeddings[\"doc1.pdf\"], doc_embeddings[i])\n",
        "  print(i, output)"
      ],
      "metadata": {
        "colab": {
          "base_uri": "https://localhost:8080/"
        },
        "id": "U3yzkbs2nEgA",
        "outputId": "b124c469-6d87-49f5-f128-83ad2656ac6e"
      },
      "execution_count": 15,
      "outputs": [
        {
          "output_type": "stream",
          "name": "stdout",
          "text": [
            "doc4.pdf tensor([0.7431], grad_fn=<SumBackward1>)\n",
            "doc5.pdf tensor([0.8156], grad_fn=<SumBackward1>)\n",
            "doc9.pdf tensor([0.8798], grad_fn=<SumBackward1>)\n",
            "doc32.pdf tensor([0.9122], grad_fn=<SumBackward1>)\n",
            "doc25.pdf tensor([0.9152], grad_fn=<SumBackward1>)\n",
            "doc28.pdf tensor([0.8806], grad_fn=<SumBackward1>)\n",
            "doc8.pdf tensor([0.7408], grad_fn=<SumBackward1>)\n",
            "doc7.pdf tensor([0.7644], grad_fn=<SumBackward1>)\n",
            "doc31.pdf tensor([0.9165], grad_fn=<SumBackward1>)\n",
            "doc27.pdf tensor([0.8056], grad_fn=<SumBackward1>)\n",
            "doc3.pdf tensor([0.6530], grad_fn=<SumBackward1>)\n",
            "doc23.pdf tensor([0.6686], grad_fn=<SumBackward1>)\n",
            "doc22.pdf tensor([0.6177], grad_fn=<SumBackward1>)\n",
            "doc26.pdf tensor([0.8301], grad_fn=<SumBackward1>)\n",
            "doc20.pdf tensor([0.7931], grad_fn=<SumBackward1>)\n",
            "doc30.pdf tensor([0.8274], grad_fn=<SumBackward1>)\n",
            "doc29.pdf tensor([0.9177], grad_fn=<SumBackward1>)\n",
            "doc24.pdf tensor([0.8305], grad_fn=<SumBackward1>)\n",
            "doc2.pdf tensor([0.9323], grad_fn=<SumBackward1>)\n"
          ]
        }
      ]
    },
    {
      "cell_type": "markdown",
      "source": [
        "### bert-base"
      ],
      "metadata": {
        "id": "fMi_nWsRzeN4"
      }
    },
    {
      "cell_type": "code",
      "source": [
        "for i in list(doc_embeddings.keys()):\n",
        "  if \"doc1\" in i:\n",
        "    continue\n",
        "  output = torch.nn.functional.cosine_similarity(doc_embeddings[\"doc1.pdf\"], doc_embeddings[i])\n",
        "  print(i, output)"
      ],
      "metadata": {
        "colab": {
          "base_uri": "https://localhost:8080/"
        },
        "id": "O02UYzlzUSbC",
        "outputId": "8210f6cf-03ca-4c03-ad0c-7e359309a469"
      },
      "execution_count": 16,
      "outputs": [
        {
          "output_type": "stream",
          "name": "stdout",
          "text": [
            "doc4.pdf tensor([0.7431], grad_fn=<SumBackward1>)\n",
            "doc5.pdf tensor([0.8156], grad_fn=<SumBackward1>)\n",
            "doc9.pdf tensor([0.8798], grad_fn=<SumBackward1>)\n",
            "doc32.pdf tensor([0.9122], grad_fn=<SumBackward1>)\n",
            "doc25.pdf tensor([0.9152], grad_fn=<SumBackward1>)\n",
            "doc28.pdf tensor([0.8806], grad_fn=<SumBackward1>)\n",
            "doc8.pdf tensor([0.7408], grad_fn=<SumBackward1>)\n",
            "doc7.pdf tensor([0.7644], grad_fn=<SumBackward1>)\n",
            "doc31.pdf tensor([0.9165], grad_fn=<SumBackward1>)\n",
            "doc27.pdf tensor([0.8056], grad_fn=<SumBackward1>)\n",
            "doc3.pdf tensor([0.6530], grad_fn=<SumBackward1>)\n",
            "doc23.pdf tensor([0.6686], grad_fn=<SumBackward1>)\n",
            "doc22.pdf tensor([0.6177], grad_fn=<SumBackward1>)\n",
            "doc26.pdf tensor([0.8301], grad_fn=<SumBackward1>)\n",
            "doc20.pdf tensor([0.7931], grad_fn=<SumBackward1>)\n",
            "doc30.pdf tensor([0.8274], grad_fn=<SumBackward1>)\n",
            "doc29.pdf tensor([0.9177], grad_fn=<SumBackward1>)\n",
            "doc24.pdf tensor([0.8305], grad_fn=<SumBackward1>)\n",
            "doc2.pdf tensor([0.9323], grad_fn=<SumBackward1>)\n"
          ]
        }
      ]
    },
    {
      "cell_type": "code",
      "source": [],
      "metadata": {
        "id": "u2ze30PIUVZB"
      },
      "execution_count": null,
      "outputs": []
    },
    {
      "cell_type": "code",
      "source": [],
      "metadata": {
        "id": "vey0OsVyhM7L"
      },
      "execution_count": null,
      "outputs": []
    },
    {
      "cell_type": "markdown",
      "source": [
        "# Word2Vec training"
      ],
      "metadata": {
        "id": "JFSzP9qRzgvs"
      }
    },
    {
      "cell_type": "code",
      "source": [
        "from scipy import spatial\n",
        "import numpy as np\n",
        "from gensim.models import Word2Vec\n",
        "\n",
        "def preprocess(s):\n",
        "  return [i.lower() for i in s.split()]\n",
        "\n",
        "def get_vector(s):\n",
        "  return np.sum(np.array([model.wv[i] for i in preprocess(s)]), axis=0)\n",
        "\n",
        "text_data = []\n",
        "for n, row in df.iterrows():\n",
        "  text = row[\"title\"] + \" \" + row[\"abstract\"]\n",
        "  text_data.append(preprocess(text))\n",
        "\n",
        "model = Word2Vec(sentences=text_data, vector_size=200, window=5, min_count=1, workers=4)\n",
        "\n",
        "res = {}\n",
        "for n, row in df.iterrows():\n",
        "  print(row[\"document\"])\n",
        "  text = row[\"title\"] + \" \" + row[\"abstract\"]\n",
        "  embeddings = get_vector(text)\n",
        "  print(len(embeddings))\n",
        "  res[row[\"document\"]] = embeddings"
      ],
      "metadata": {
        "colab": {
          "base_uri": "https://localhost:8080/"
        },
        "id": "VFfzMrM1efPK",
        "outputId": "24022f14-b651-4728-e37b-607d03669576"
      },
      "execution_count": 17,
      "outputs": [
        {
          "output_type": "stream",
          "name": "stdout",
          "text": [
            "doc4.pdf\n",
            "200\n",
            "doc15.pdf\n",
            "200\n",
            "doc16.pdf\n",
            "200\n",
            "doc5.pdf\n",
            "200\n",
            "doc14.pdf\n",
            "200\n",
            "doc9.pdf\n",
            "200\n",
            "doc12.pdf\n",
            "200\n",
            "doc32.pdf\n",
            "200\n",
            "doc25.pdf\n",
            "200\n",
            "doc1.pdf\n",
            "200\n",
            "doc28.pdf\n",
            "200\n",
            "doc11.pdf\n",
            "200\n",
            "doc8.pdf\n",
            "200\n",
            "doc7.pdf\n",
            "200\n",
            "doc31.pdf\n",
            "200\n",
            "doc27.pdf\n",
            "200\n",
            "doc3.pdf\n",
            "200\n",
            "doc18.pdf\n",
            "200\n",
            "doc17.pdf\n",
            "200\n",
            "doc23.pdf\n",
            "200\n",
            "doc22.pdf\n",
            "200\n",
            "doc26.pdf\n",
            "200\n",
            "doc20.pdf\n",
            "200\n",
            "doc30.pdf\n",
            "200\n",
            "doc29.pdf\n",
            "200\n",
            "doc24.pdf\n",
            "200\n",
            "doc2.pdf\n",
            "200\n",
            "doc13.pdf\n",
            "200\n",
            "doc19.pdf\n",
            "200\n",
            "doc10.pdf\n",
            "200\n"
          ]
        }
      ]
    },
    {
      "cell_type": "code",
      "source": [
        "with open('word2vec_doc_embeddings.pkl', 'wb') as pkl:\n",
        "    pickle.dump(res, pkl)"
      ],
      "metadata": {
        "id": "bF3snc9TZZhh"
      },
      "execution_count": 18,
      "outputs": []
    },
    {
      "cell_type": "code",
      "source": [
        "doc_embeddings = None\n",
        "with open('word2vec_doc_embeddings.pkl', 'rb') as pkl:\n",
        "    doc_embeddings = pickle.load(pkl)\n",
        "    print(list(doc_embeddings.keys()))\n",
        "    print(doc_embeddings[\"doc1.pdf\"].shape)"
      ],
      "metadata": {
        "colab": {
          "base_uri": "https://localhost:8080/"
        },
        "id": "5jE-mHt_Zbq1",
        "outputId": "50b395a1-a07e-418c-c983-811ef5f932dc"
      },
      "execution_count": 19,
      "outputs": [
        {
          "output_type": "stream",
          "name": "stdout",
          "text": [
            "['doc4.pdf', 'doc15.pdf', 'doc16.pdf', 'doc5.pdf', 'doc14.pdf', 'doc9.pdf', 'doc12.pdf', 'doc32.pdf', 'doc25.pdf', 'doc1.pdf', 'doc28.pdf', 'doc11.pdf', 'doc8.pdf', 'doc7.pdf', 'doc31.pdf', 'doc27.pdf', 'doc3.pdf', 'doc18.pdf', 'doc17.pdf', 'doc23.pdf', 'doc22.pdf', 'doc26.pdf', 'doc20.pdf', 'doc30.pdf', 'doc29.pdf', 'doc24.pdf', 'doc2.pdf', 'doc13.pdf', 'doc19.pdf', 'doc10.pdf']\n",
            "(200,)\n"
          ]
        }
      ]
    },
    {
      "cell_type": "code",
      "source": [
        "for i in list(doc_embeddings.keys()):\n",
        "  if \"doc1\" in i:\n",
        "    continue\n",
        "  output = 1 - spatial.distance.cosine(doc_embeddings[\"doc1.pdf\"], doc_embeddings[i])\n",
        "  print(i, output)"
      ],
      "metadata": {
        "colab": {
          "base_uri": "https://localhost:8080/"
        },
        "id": "jRmuCPZyZdKz",
        "outputId": "302437a0-6d41-448e-e448-b483cf393b70"
      },
      "execution_count": 20,
      "outputs": [
        {
          "output_type": "stream",
          "name": "stdout",
          "text": [
            "doc4.pdf 0.49424341320991516\n",
            "doc5.pdf 0.6042689085006714\n",
            "doc9.pdf 0.4217040240764618\n",
            "doc32.pdf 0.5237597823143005\n",
            "doc25.pdf 0.47614628076553345\n",
            "doc28.pdf 0.4799894392490387\n",
            "doc8.pdf 0.5207076072692871\n",
            "doc7.pdf 0.5906774401664734\n",
            "doc31.pdf 0.3340543210506439\n",
            "doc27.pdf 0.5779787302017212\n",
            "doc3.pdf 0.6269906163215637\n",
            "doc23.pdf 0.5350211262702942\n",
            "doc22.pdf 0.5270212888717651\n",
            "doc26.pdf 0.44410115480422974\n",
            "doc20.pdf 0.4905087649822235\n",
            "doc30.pdf 0.538537323474884\n",
            "doc29.pdf 0.385328084230423\n",
            "doc24.pdf 0.44897982478141785\n",
            "doc2.pdf 0.6708626747131348\n"
          ]
        }
      ]
    },
    {
      "cell_type": "code",
      "source": [],
      "metadata": {
        "id": "nE8kUsHxgguI"
      },
      "execution_count": 20,
      "outputs": []
    },
    {
      "cell_type": "code",
      "source": [],
      "metadata": {
        "id": "rvIylyuLkn9Z"
      },
      "execution_count": 20,
      "outputs": []
    },
    {
      "cell_type": "markdown",
      "source": [
        "# Glove pre-trained"
      ],
      "metadata": {
        "id": "XmmeOtcKzkwd"
      }
    },
    {
      "cell_type": "code",
      "source": [
        "from scipy import spatial\n",
        "import numpy as np\n",
        "from gensim.models import Word2Vec\n",
        "import gensim.downloader\n",
        "\n",
        "model = gensim.downloader.load('glove-wiki-gigaword-200')"
      ],
      "metadata": {
        "colab": {
          "base_uri": "https://localhost:8080/"
        },
        "id": "0Q-XWB_vefM5",
        "outputId": "48d3429a-4c0c-4114-a029-410debd5e460"
      },
      "execution_count": 21,
      "outputs": [
        {
          "output_type": "stream",
          "name": "stdout",
          "text": [
            "[==================================================] 100.0% 252.1/252.1MB downloaded\n"
          ]
        }
      ]
    },
    {
      "cell_type": "code",
      "source": [
        "\"dog\" in list(model.key_to_index.keys())"
      ],
      "metadata": {
        "colab": {
          "base_uri": "https://localhost:8080/"
        },
        "id": "ygQgpWNylkDP",
        "outputId": "9c3a90d4-4a2e-4bf6-c1c8-536b989a6373"
      },
      "execution_count": 22,
      "outputs": [
        {
          "output_type": "execute_result",
          "data": {
            "text/plain": [
              "True"
            ]
          },
          "metadata": {},
          "execution_count": 22
        }
      ]
    },
    {
      "cell_type": "code",
      "source": [
        "len(model[\"dog\"])"
      ],
      "metadata": {
        "colab": {
          "base_uri": "https://localhost:8080/"
        },
        "id": "_pmHFQIzmWGW",
        "outputId": "7c480560-4b97-4994-d297-fdfdaf182f22"
      },
      "execution_count": 23,
      "outputs": [
        {
          "output_type": "execute_result",
          "data": {
            "text/plain": [
              "200"
            ]
          },
          "metadata": {},
          "execution_count": 23
        }
      ]
    },
    {
      "cell_type": "code",
      "source": [
        "from scipy import spatial\n",
        "import numpy as np\n",
        "from gensim.models import Word2Vec\n",
        "import gensim\n",
        "\n",
        "def preprocess(s):\n",
        "  return [i.lower() for i in s.split()]\n",
        "\n",
        "def get_vector(s):\n",
        "  return np.sum(np.array([model[i] for i in preprocess(s) if i in list(model.key_to_index.keys())]), axis=0)\n",
        "\n",
        "# model = gensim.downloader.load('glove-wiki-gigaword-200')\n",
        "\n",
        "res = {}\n",
        "for n, row in df.iterrows():\n",
        "  print(row[\"document\"])\n",
        "  text = row[\"title\"] + \" \" + row[\"abstract\"]\n",
        "  embeddings = get_vector(text)\n",
        "  print(len(embeddings))\n",
        "  res[row[\"document\"]] = embeddings\n",
        "# model.__dir__()"
      ],
      "metadata": {
        "colab": {
          "base_uri": "https://localhost:8080/"
        },
        "id": "6fI7YMelhLfK",
        "outputId": "4d3ebb10-afff-40fa-a24b-e23d93020593"
      },
      "execution_count": 24,
      "outputs": [
        {
          "output_type": "stream",
          "name": "stdout",
          "text": [
            "doc4.pdf\n",
            "200\n",
            "doc15.pdf\n",
            "200\n",
            "doc16.pdf\n",
            "200\n",
            "doc5.pdf\n",
            "200\n",
            "doc14.pdf\n",
            "200\n",
            "doc9.pdf\n",
            "200\n",
            "doc12.pdf\n",
            "200\n",
            "doc32.pdf\n",
            "200\n",
            "doc25.pdf\n",
            "200\n",
            "doc1.pdf\n",
            "200\n",
            "doc28.pdf\n",
            "200\n",
            "doc11.pdf\n",
            "200\n",
            "doc8.pdf\n",
            "200\n",
            "doc7.pdf\n",
            "200\n",
            "doc31.pdf\n",
            "200\n",
            "doc27.pdf\n",
            "200\n",
            "doc3.pdf\n",
            "200\n",
            "doc18.pdf\n",
            "200\n",
            "doc17.pdf\n",
            "200\n",
            "doc23.pdf\n",
            "200\n",
            "doc22.pdf\n",
            "200\n",
            "doc26.pdf\n",
            "200\n",
            "doc20.pdf\n",
            "200\n",
            "doc30.pdf\n",
            "200\n",
            "doc29.pdf\n",
            "200\n",
            "doc24.pdf\n",
            "200\n",
            "doc2.pdf\n",
            "200\n",
            "doc13.pdf\n",
            "200\n",
            "doc19.pdf\n",
            "200\n",
            "doc10.pdf\n",
            "200\n"
          ]
        }
      ]
    },
    {
      "cell_type": "code",
      "source": [
        "with open('pretrained_glove_doc_embeddings.pkl', 'wb') as pkl:\n",
        "    pickle.dump(res, pkl)"
      ],
      "metadata": {
        "id": "FP8a0EQ_h9GQ"
      },
      "execution_count": 25,
      "outputs": []
    },
    {
      "cell_type": "code",
      "source": [
        "doc_embeddings = None\n",
        "with open('pretrained_glove_doc_embeddings.pkl', 'rb') as pkl:\n",
        "    doc_embeddings = pickle.load(pkl)\n",
        "    print(list(doc_embeddings.keys()))\n",
        "    print(doc_embeddings[\"doc1.pdf\"].shape)"
      ],
      "metadata": {
        "colab": {
          "base_uri": "https://localhost:8080/"
        },
        "id": "KkO63MyHkEmp",
        "outputId": "64cb99a9-0f03-45ac-95ac-ed9ca3158a46"
      },
      "execution_count": 26,
      "outputs": [
        {
          "output_type": "stream",
          "name": "stdout",
          "text": [
            "['doc4.pdf', 'doc15.pdf', 'doc16.pdf', 'doc5.pdf', 'doc14.pdf', 'doc9.pdf', 'doc12.pdf', 'doc32.pdf', 'doc25.pdf', 'doc1.pdf', 'doc28.pdf', 'doc11.pdf', 'doc8.pdf', 'doc7.pdf', 'doc31.pdf', 'doc27.pdf', 'doc3.pdf', 'doc18.pdf', 'doc17.pdf', 'doc23.pdf', 'doc22.pdf', 'doc26.pdf', 'doc20.pdf', 'doc30.pdf', 'doc29.pdf', 'doc24.pdf', 'doc2.pdf', 'doc13.pdf', 'doc19.pdf', 'doc10.pdf']\n",
            "(200,)\n"
          ]
        }
      ]
    },
    {
      "cell_type": "code",
      "source": [
        "for i in list(doc_embeddings.keys()):\n",
        "  if \"doc1\" in i:\n",
        "    continue\n",
        "  output = 1 - spatial.distance.cosine(doc_embeddings[\"doc1.pdf\"], doc_embeddings[i])\n",
        "  print(i, output)"
      ],
      "metadata": {
        "colab": {
          "base_uri": "https://localhost:8080/"
        },
        "id": "QZUdhY3XkIME",
        "outputId": "5973ccc7-dc56-437d-8bc6-6e9aec153f65"
      },
      "execution_count": 27,
      "outputs": [
        {
          "output_type": "stream",
          "name": "stdout",
          "text": [
            "doc4.pdf 0.9436064958572388\n",
            "doc5.pdf 0.8735416531562805\n",
            "doc9.pdf 0.9163336157798767\n",
            "doc32.pdf 0.9503900408744812\n",
            "doc25.pdf 0.9260703921318054\n",
            "doc28.pdf 0.9112688302993774\n",
            "doc8.pdf 0.9328381419181824\n",
            "doc7.pdf 0.9340457320213318\n",
            "doc31.pdf 0.9211826324462891\n",
            "doc27.pdf 0.8955433368682861\n",
            "doc3.pdf 0.9163644313812256\n",
            "doc23.pdf 0.874739944934845\n",
            "doc22.pdf 0.895529568195343\n",
            "doc26.pdf 0.8631941080093384\n",
            "doc20.pdf 0.8853211402893066\n",
            "doc30.pdf 0.9291488528251648\n",
            "doc29.pdf 0.9036635756492615\n",
            "doc24.pdf 0.9072354435920715\n",
            "doc2.pdf 0.9790905714035034\n"
          ]
        }
      ]
    },
    {
      "cell_type": "code",
      "source": [],
      "metadata": {
        "id": "v1b51xaVm3hr"
      },
      "execution_count": 27,
      "outputs": []
    },
    {
      "cell_type": "markdown",
      "source": [
        "# Dimensionality reduction"
      ],
      "metadata": {
        "id": "cvzKFkKvznu-"
      }
    },
    {
      "cell_type": "code",
      "source": [
        "doc_embeddings = None\n",
        "with open('bert_doc_embeddings.pkl', 'rb') as pkl:\n",
        "    doc_embeddings = pickle.load(pkl)\n",
        "    print(list(doc_embeddings.keys()))\n",
        "    print(doc_embeddings[\"doc1.pdf\"].shape)"
      ],
      "metadata": {
        "colab": {
          "base_uri": "https://localhost:8080/"
        },
        "id": "07ooBSmXzr7j",
        "outputId": "9f42b7d3-36f8-4f35-af7a-a6dce20090ec"
      },
      "execution_count": 28,
      "outputs": [
        {
          "output_type": "stream",
          "name": "stdout",
          "text": [
            "['doc4.pdf', 'doc15.pdf', 'doc16.pdf', 'doc5.pdf', 'doc14.pdf', 'doc9.pdf', 'doc12.pdf', 'doc32.pdf', 'doc25.pdf', 'doc1.pdf', 'doc28.pdf', 'doc11.pdf', 'doc8.pdf', 'doc7.pdf', 'doc31.pdf', 'doc27.pdf', 'doc3.pdf', 'doc18.pdf', 'doc17.pdf', 'doc23.pdf', 'doc22.pdf', 'doc26.pdf', 'doc20.pdf', 'doc30.pdf', 'doc29.pdf', 'doc24.pdf', 'doc2.pdf', 'doc13.pdf', 'doc19.pdf', 'doc10.pdf']\n",
            "torch.Size([1, 768])\n"
          ]
        }
      ]
    },
    {
      "cell_type": "code",
      "source": [
        "# doc_embeddings[\"doc1.pdf\"][0]"
      ],
      "metadata": {
        "id": "Ao4dleY81HfY"
      },
      "execution_count": 29,
      "outputs": []
    },
    {
      "cell_type": "code",
      "source": [
        "embed_vals = list(doc_embeddings.values())\n",
        "embed_vals = [i[0].detach().numpy() for i in embed_vals]\n",
        "embed_vals[0]"
      ],
      "metadata": {
        "colab": {
          "base_uri": "https://localhost:8080/"
        },
        "id": "RHyCYSiW00dC",
        "outputId": "f88635cf-c824-4d4d-89ed-08707989e5a7"
      },
      "execution_count": 30,
      "outputs": [
        {
          "output_type": "execute_result",
          "data": {
            "text/plain": [
              "array([-3.63233268e-01, -3.20249707e-01, -3.48136008e-01, -9.73146260e-02,\n",
              "        3.84096175e-01,  9.99981821e-01,  5.15508592e-01, -9.99671757e-01,\n",
              "        3.13856483e-01,  7.19825268e-01,  4.81250405e-01,  3.95206600e-01,\n",
              "        9.53679383e-01, -2.89808720e-01,  1.85241640e-01, -1.16694801e-01,\n",
              "       -3.94342989e-01, -3.71777594e-01, -1.97971389e-01, -9.07053828e-01,\n",
              "       -1.20734483e-01,  5.64557016e-01,  8.70078504e-01,  3.81095827e-01,\n",
              "       -9.52100635e-01,  9.72671449e-01, -5.23244143e-01,  1.11590184e-01,\n",
              "       -4.25053358e-01,  4.37912613e-01,  4.20548081e-01, -9.60838377e-01,\n",
              "        2.87842155e-01, -2.56144434e-01, -2.52333432e-01,  2.35649675e-01,\n",
              "        9.99773264e-01,  1.92427039e-01,  3.10626715e-01,  6.59585297e-01,\n",
              "       -3.35688770e-01,  3.73955309e-01,  1.72253523e-03,  4.03287970e-02,\n",
              "        5.09736538e-01, -3.71651322e-01, -1.48323655e-01,  1.11851268e-01,\n",
              "        5.04139483e-01,  7.13257790e-01,  8.86335894e-02, -4.19687837e-01,\n",
              "       -2.18916088e-02,  9.44850624e-01,  9.85063612e-01, -3.72432858e-01,\n",
              "       -4.70818371e-01,  1.35781541e-01,  5.35703540e-01,  9.34837699e-01,\n",
              "       -3.24530482e-01,  2.18074117e-02,  3.11997652e-01,  9.50291038e-01,\n",
              "        4.52306062e-01, -5.44363320e-01, -3.48109603e-01, -1.56719148e-01,\n",
              "       -4.83495086e-01,  5.08759022e-01,  9.96227622e-01,  6.05033040e-01,\n",
              "        6.62751973e-01, -9.35085237e-01,  7.13286400e-01,  3.62197310e-01,\n",
              "       -3.49357605e-01, -4.24991995e-01,  4.44545448e-01,  3.21138501e-01,\n",
              "        6.90554455e-02, -2.68359989e-01, -1.26250997e-01, -9.45624948e-01,\n",
              "       -4.32215303e-01, -5.03919274e-02,  1.17883772e-01, -8.53628993e-01,\n",
              "        9.76209819e-01, -9.57631052e-01,  5.78285277e-01, -1.86859697e-01,\n",
              "       -2.37520948e-01, -2.99549490e-01,  1.20103724e-01,  2.95793682e-01,\n",
              "       -5.03114641e-01,  9.25353229e-01,  2.92012870e-01, -4.34689105e-01,\n",
              "       -4.33043808e-01,  3.96891385e-01,  2.99323857e-01, -4.80479538e-01,\n",
              "       -2.69245684e-01, -2.47205675e-01, -3.94558787e-01, -5.09425879e-01,\n",
              "       -3.21166992e-01, -4.45219576e-01, -3.40342224e-01, -3.13595653e-01,\n",
              "        4.10357565e-01, -3.73912156e-01,  4.89384644e-02,  6.03467762e-01,\n",
              "        7.65038073e-01,  5.35257041e-01, -4.83163744e-01,  1.20157888e-02,\n",
              "        3.49515021e-01, -3.63461785e-02,  5.66921830e-01, -1.52439192e-01,\n",
              "       -3.56823921e-01,  3.73749942e-01, -6.57139003e-01,  5.18463671e-01,\n",
              "        3.26062948e-01,  4.73580837e-01, -3.99090022e-01,  1.33434772e-01,\n",
              "       -9.09391284e-01, -3.02732885e-01, -4.21614349e-01,  2.44589791e-01,\n",
              "        3.75461429e-01, -4.69378173e-01, -8.26944828e-01,  3.64668369e-01,\n",
              "       -4.78212804e-01, -2.49592453e-01, -4.61120486e-01,  9.16970372e-02,\n",
              "        9.43953574e-01,  5.38543165e-02, -5.64373434e-01,  3.57252240e-01,\n",
              "        2.90194422e-01,  4.35021549e-01, -3.61827075e-01, -5.45465469e-01,\n",
              "       -2.74429798e-01,  9.99811113e-01, -3.28554101e-02,  3.09868813e-01,\n",
              "       -9.69928324e-01,  8.86386871e-01,  3.38141501e-01,  4.91340756e-01,\n",
              "        1.33630991e-01, -3.88958633e-01,  1.98058829e-01, -3.76250803e-01,\n",
              "        3.91058415e-01, -6.11973368e-02,  2.11293310e-01, -4.38611746e-01,\n",
              "        5.83130598e-01, -9.59676445e-01, -2.44020611e-01,  7.28798747e-01,\n",
              "       -8.63414705e-02, -4.19355541e-01, -4.25793439e-01,  9.10585821e-02,\n",
              "       -9.42068279e-01, -4.22055483e-01, -1.02048598e-01,  9.77838397e-01,\n",
              "       -3.02828699e-01,  5.44037521e-01, -3.92561138e-01,  2.39788055e-01,\n",
              "        1.84578955e-01, -3.05952489e-01, -2.73237735e-01,  3.07501286e-01,\n",
              "       -4.68180776e-01,  4.07331735e-01, -3.93846720e-01,  2.85462916e-01,\n",
              "        2.82176167e-01,  2.71662116e-01, -9.99950647e-01,  5.15925944e-01,\n",
              "        4.03558403e-01, -4.73708302e-01, -1.51595742e-01,  4.41822737e-01,\n",
              "        1.30861908e-01,  8.81838322e-01,  3.73429716e-01, -2.56271631e-01,\n",
              "        5.18991113e-01,  3.15888017e-01, -1.09777749e-01,  4.29222673e-01,\n",
              "       -9.64403629e-01,  9.80049074e-01,  9.81221318e-01, -7.15160668e-01,\n",
              "       -3.47737938e-01,  1.12693474e-01,  9.73845243e-01,  3.68726432e-01,\n",
              "       -8.06150958e-02, -9.96019125e-01,  3.29823911e-01,  1.28308222e-01,\n",
              "        4.44277942e-01,  6.29772782e-01, -6.35425150e-01,  9.59883273e-01,\n",
              "       -7.27737010e-01,  6.37588441e-01, -3.48522663e-01,  2.67353863e-01,\n",
              "       -2.31031999e-01,  6.39852583e-01,  2.71413207e-01, -9.98654246e-01,\n",
              "       -3.94220412e-01, -4.73338626e-02, -2.24361941e-01,  2.82878250e-01,\n",
              "        3.56480330e-01,  3.47088695e-01, -3.21793109e-01, -3.23777258e-01,\n",
              "        2.85654396e-01,  1.52106658e-01, -4.76397336e-01, -6.28078580e-01,\n",
              "       -5.14133394e-01,  9.61939752e-01, -6.14076853e-01,  4.07525152e-01,\n",
              "        3.36874455e-01, -3.08131129e-01,  4.20341283e-01, -2.24243090e-01,\n",
              "        8.01690042e-01, -5.81918061e-01, -3.65872920e-01, -4.00569379e-01,\n",
              "        7.98650026e-01, -6.04849398e-01, -1.95398301e-01, -3.31513435e-01,\n",
              "       -1.52556539e-01,  9.76671875e-01,  7.12722898e-01, -9.36386734e-02,\n",
              "       -9.48313773e-01,  9.57630761e-03, -9.10673320e-01,  7.34240890e-01,\n",
              "       -2.49730736e-01, -8.83415878e-01, -3.14678431e-01, -4.21716794e-02,\n",
              "       -8.89351130e-01, -6.90085888e-01, -1.37684554e-01,  9.09766734e-01,\n",
              "       -5.10815382e-01,  9.61141706e-01,  4.63761002e-01, -1.35085940e-01,\n",
              "        2.95332849e-01, -3.82706851e-01,  3.54732096e-01, -9.72677350e-01,\n",
              "        2.00562075e-01, -2.08455935e-01, -1.09601200e-01, -9.36626554e-01,\n",
              "       -1.48433506e-01,  4.29846644e-01,  9.99412835e-01,  6.04315042e-01,\n",
              "       -5.21467447e-01, -9.69754100e-01, -4.50621963e-01,  5.61073311e-02,\n",
              "       -9.57960069e-01,  8.74682605e-01, -7.19597042e-01,  9.68583643e-01,\n",
              "       -4.43448216e-01,  9.54131246e-01,  3.06593686e-01, -9.35155928e-01,\n",
              "       -8.95740092e-01,  3.57346505e-01, -6.76232696e-01, -2.80828983e-01,\n",
              "        7.79020265e-02, -8.19991648e-01, -9.43433762e-01,  3.62933904e-01,\n",
              "       -4.08403963e-01, -2.26650789e-01, -1.94803879e-01, -1.42488882e-01,\n",
              "       -5.73877851e-03, -1.76209241e-01,  9.94552314e-01, -3.82793427e-01,\n",
              "       -4.32765067e-01, -2.54980177e-01, -4.31458019e-02, -6.47670925e-02,\n",
              "        8.99230003e-01,  2.02003062e-01,  2.41885647e-01, -3.35492343e-01,\n",
              "        8.69315803e-01, -9.67377067e-01, -6.18180096e-01, -8.33810121e-02,\n",
              "        1.40816227e-01,  1.31408527e-01, -2.41482198e-01, -3.22080314e-01,\n",
              "        9.25390363e-01, -2.97988445e-01, -7.93484390e-01, -4.42041844e-01,\n",
              "       -2.51740873e-01,  9.56379533e-01,  4.12958920e-01, -4.81216908e-01,\n",
              "        3.91535431e-01,  7.89612174e-01, -3.62813383e-01, -2.53554463e-01,\n",
              "       -2.38595963e-01,  3.19086225e-03, -4.17379022e-01, -2.40269065e-01,\n",
              "        3.73732001e-01, -4.53084975e-01,  5.05160034e-01, -1.16295047e-01,\n",
              "       -2.54525423e-01,  6.40585363e-01, -1.87813595e-01, -3.07514220e-01,\n",
              "       -2.77898610e-01, -9.07196254e-02,  4.60159510e-01,  4.33990657e-01,\n",
              "       -9.01777685e-01,  4.09905732e-01, -4.30497564e-02, -9.27745104e-02,\n",
              "        2.30332434e-01, -6.67891605e-03,  3.27469498e-01, -1.54775709e-01,\n",
              "       -2.26996690e-02,  9.54541471e-03,  9.83655334e-01,  4.92290169e-01,\n",
              "       -2.17394009e-01,  3.41665924e-01, -1.04361720e-01,  4.03480262e-01,\n",
              "        4.92598414e-01, -2.92879134e-01, -4.27580237e-01,  6.74400330e-02,\n",
              "        9.08900142e-01,  2.04784229e-01, -4.50936556e-01, -1.44789621e-01,\n",
              "        9.65673089e-01,  2.53683716e-01,  4.49864343e-02,  4.90006298e-01,\n",
              "        4.16549474e-01, -9.68493801e-03,  1.93108439e-01,  2.81954501e-02,\n",
              "        2.02948555e-01,  9.50690389e-01, -6.60012811e-02, -7.36732006e-01,\n",
              "       -9.95584607e-01, -5.28576434e-01,  2.52775460e-01,  1.49948359e-01,\n",
              "       -3.48240621e-02, -4.05800231e-02,  9.90320861e-01, -8.73688281e-01,\n",
              "       -4.26774591e-01,  2.97409534e-01,  4.18835253e-01,  5.58974624e-01,\n",
              "        2.30740577e-01, -2.92937547e-01, -8.31274986e-02, -2.76916772e-01,\n",
              "        3.71184975e-01, -4.18664336e-01, -1.89444691e-01,  3.40658665e-01,\n",
              "        1.53679967e-01, -4.03502584e-01, -3.55258465e-01, -6.68736815e-01,\n",
              "       -1.81022212e-01, -4.95427758e-01, -3.29161733e-01,  2.77353823e-01,\n",
              "       -6.20955825e-01, -2.94903964e-01,  4.01856661e-01,  7.56583095e-01,\n",
              "       -6.59949601e-01,  9.99075353e-01,  9.76531327e-01,  4.99881387e-01,\n",
              "       -5.15181780e-01,  2.99350321e-01, -2.92249382e-01, -5.78086376e-01,\n",
              "       -1.30078018e-01, -4.09937084e-01,  3.69783610e-01,  9.77155864e-01,\n",
              "        3.04673426e-03,  4.09198821e-01, -9.52027500e-01,  2.97301888e-01,\n",
              "       -9.71802294e-01, -3.12697828e-01, -3.99944425e-01, -1.39425561e-01,\n",
              "        1.25253960e-01,  6.07948124e-01,  4.09074783e-01, -4.45833355e-01,\n",
              "       -5.19590974e-01, -8.78687441e-01, -2.19942972e-01, -3.28594923e-01,\n",
              "       -1.63749173e-01,  3.42218608e-01,  4.11057949e-01,  7.56437898e-01,\n",
              "       -2.16165200e-01, -8.59652698e-01, -8.89926627e-02, -3.33050609e-01,\n",
              "        3.41776401e-01,  9.49674845e-01, -7.38742501e-02, -3.25914949e-01,\n",
              "        5.44797540e-01,  4.84602451e-01,  9.76343453e-01, -4.25443441e-01,\n",
              "        6.99940383e-01, -1.22486167e-01, -1.45752542e-02,  5.03296293e-02,\n",
              "       -5.82103014e-01, -3.12155247e-01, -1.34052858e-01, -1.91993177e-01,\n",
              "        2.73608148e-01,  3.98040384e-01, -4.17238146e-01,  6.39850318e-01,\n",
              "        5.62724948e-01,  5.30827224e-01, -9.28252339e-01, -4.42008883e-01,\n",
              "       -2.88798034e-01, -3.78703624e-01, -8.01631808e-01, -9.23564006e-03,\n",
              "       -8.38454366e-01,  5.34225225e-01,  9.54409420e-01,  3.07428151e-01,\n",
              "        8.23326468e-01, -9.88719404e-01,  2.70011634e-01, -4.62150395e-01,\n",
              "       -2.85707802e-01, -9.54657853e-01, -9.91899073e-01, -4.31372881e-01,\n",
              "        9.57308829e-01, -1.07284509e-01, -9.24236357e-01,  2.51427770e-01,\n",
              "        9.59202230e-01,  4.25625950e-01,  2.31699213e-01, -4.62131172e-01,\n",
              "        5.66166759e-01,  8.61603737e-01,  2.03355461e-01, -1.32422090e-01,\n",
              "       -4.02100712e-01, -3.68545949e-01,  9.25830007e-01,  9.50735748e-01,\n",
              "       -7.28964210e-02, -1.81196049e-01, -2.23818302e-01,  9.99994814e-01,\n",
              "        1.19835317e-01, -2.82186717e-01, -6.99549243e-02, -2.62810081e-01,\n",
              "       -1.65371448e-01,  2.08644971e-01, -3.04549336e-01,  8.64996761e-02,\n",
              "        4.35679823e-01,  9.00275469e-01,  4.50899422e-01, -4.96944010e-01,\n",
              "        6.66115701e-01, -5.90534806e-01,  3.91985804e-01, -2.31252030e-01,\n",
              "        2.13800352e-02, -5.35154231e-02, -9.98205721e-01,  1.02814205e-01,\n",
              "       -2.71345437e-01,  3.42863709e-01, -5.00789285e-01,  1.67458862e-01,\n",
              "       -4.00583893e-01, -5.11075258e-01, -8.79345834e-01, -3.65567595e-01,\n",
              "       -2.37939864e-01,  3.78836133e-02,  3.35768521e-01, -7.59490371e-01,\n",
              "       -5.28484941e-01,  4.40124661e-01,  9.56623495e-01,  5.03524482e-01,\n",
              "        9.95719135e-01,  2.65682548e-01, -9.73712027e-01,  9.89204764e-01,\n",
              "       -2.92953521e-01,  3.70824069e-01, -1.61916643e-01, -9.84171629e-01,\n",
              "        8.75290185e-02,  4.67130423e-01, -9.89686847e-02, -5.72543800e-01,\n",
              "        3.84865612e-01,  9.53070164e-01,  3.60016495e-01, -1.62851512e-01,\n",
              "        9.49079216e-01,  9.99137938e-01,  9.99879479e-01, -9.13200080e-01,\n",
              "        3.01770151e-01,  4.79425699e-01, -5.02002418e-01, -2.81579763e-01,\n",
              "        9.41773713e-01,  2.72701919e-01,  4.78890359e-01,  6.96180344e-01,\n",
              "        1.52722090e-01,  9.80158821e-02, -9.67195407e-02, -9.55665529e-01,\n",
              "       -1.37544805e-02,  4.39181328e-01, -2.04182595e-01,  5.20376228e-02,\n",
              "       -5.75481117e-01,  5.49179362e-03, -7.09992290e-01, -3.91017906e-02,\n",
              "       -2.10174739e-01,  9.03818548e-01, -4.17780697e-01, -1.79144740e-01,\n",
              "       -4.00732934e-01,  7.89772511e-01, -9.49416697e-01, -2.43333116e-01,\n",
              "        2.36972719e-01, -3.04096997e-01,  1.77791476e-01,  8.73315454e-01,\n",
              "       -3.43019485e-01,  1.05274960e-01,  9.08598661e-01, -3.92275602e-01,\n",
              "        3.83931816e-01,  2.64109433e-01, -2.21383616e-01, -2.42882267e-01,\n",
              "       -2.05362350e-01, -1.52406201e-01,  7.16105640e-01, -9.64994490e-01,\n",
              "       -3.68811563e-02,  9.86140609e-01, -9.36341047e-01, -1.55932948e-01,\n",
              "       -3.54753017e-01,  3.97429824e-01,  4.11414981e-01, -9.92382586e-01,\n",
              "        4.60307151e-01,  5.09817183e-01,  5.14133573e-01, -9.89481926e-01,\n",
              "       -7.41924942e-01, -9.96746600e-01,  4.75325674e-01, -3.29269201e-01,\n",
              "        3.84285241e-01, -4.60157901e-01,  4.09647942e-01,  2.73467869e-01,\n",
              "        4.53236341e-01, -1.11355290e-01, -3.46728265e-01,  8.69968295e-01,\n",
              "        9.58194315e-01, -3.29869658e-01, -3.79557997e-01, -6.66816756e-02,\n",
              "        1.65175810e-01,  2.80600004e-02, -2.94472426e-01, -9.85365391e-01,\n",
              "       -2.95234263e-01, -3.52313936e-01,  4.54089522e-01,  5.17295897e-01,\n",
              "        3.02053243e-01,  3.28602970e-01, -2.25103483e-01,  8.44721854e-01,\n",
              "       -2.41975918e-01, -2.84595609e-01, -3.76441360e-01,  8.40549767e-01,\n",
              "       -3.64218265e-01, -8.48489285e-01,  5.02701700e-01,  9.20367181e-01,\n",
              "       -9.07164097e-01, -3.48151356e-01, -3.13488007e-01, -6.48684919e-01,\n",
              "       -4.07350183e-01, -1.91026747e-01,  1.53483406e-01, -6.07003629e-01,\n",
              "        7.71397591e-01, -4.16497588e-01, -4.97715950e-01,  3.15092981e-01,\n",
              "        2.66148150e-01, -9.99966145e-01,  2.90363908e-01,  5.72104692e-01,\n",
              "       -5.75748742e-01, -3.61900479e-01, -2.79602915e-01,  1.04904193e-02,\n",
              "       -3.60518277e-01, -2.80189842e-01, -6.01485074e-01, -4.36280191e-01,\n",
              "        4.67212141e-01,  9.95109618e-01,  6.62880003e-01,  6.93024993e-01,\n",
              "       -2.00075597e-01,  3.19289297e-01,  2.55424410e-01, -6.34386063e-01,\n",
              "       -2.37177730e-01,  2.77099431e-01, -1.18539825e-01,  5.04622936e-01,\n",
              "       -3.00550997e-01, -4.38266844e-01, -2.77824849e-01,  1.19864032e-01,\n",
              "       -8.30814242e-01, -1.98500246e-01, -3.85633200e-01, -9.89598334e-01,\n",
              "       -2.33312309e-01, -1.20479874e-01,  9.68883753e-01,  5.53384840e-01,\n",
              "       -8.45742166e-01, -8.27623188e-01,  2.95912325e-01, -8.13949183e-02,\n",
              "       -3.29425037e-01, -2.70551313e-02, -3.07974219e-01,  2.71495491e-01,\n",
              "        8.67941797e-01, -8.65487382e-03,  9.76068974e-01,  9.50097561e-01,\n",
              "        2.43236288e-01, -1.89193264e-01, -2.30887666e-01, -6.77410424e-01,\n",
              "        2.38736078e-01,  9.98958647e-01,  6.25405535e-02,  7.74362504e-01,\n",
              "        1.98803213e-03,  9.78759825e-01,  8.10336471e-02,  2.22934410e-01,\n",
              "        2.53459439e-05,  9.62391973e-01, -9.26799417e-01,  8.48098636e-01,\n",
              "        2.89112419e-01, -3.67676973e-01, -1.00183800e-01,  1.08570591e-01,\n",
              "       -2.27961615e-01,  5.14589667e-01, -4.49456960e-01, -4.30248708e-01,\n",
              "       -3.06925178e-01, -1.20238036e-01,  3.46926600e-01,  3.83151442e-01,\n",
              "       -4.96242605e-02, -2.81235486e-01,  9.97553170e-01,  2.52789229e-01],\n",
              "      dtype=float32)"
            ]
          },
          "metadata": {},
          "execution_count": 30
        }
      ]
    },
    {
      "cell_type": "code",
      "source": [
        "from sklearn.decomposition import PCA\n",
        "\n",
        "pca = PCA(n_components=30)\n",
        "values = pca.fit_transform(embed_vals)\n",
        "values.shape"
      ],
      "metadata": {
        "colab": {
          "base_uri": "https://localhost:8080/"
        },
        "id": "V67-ahQFzuMz",
        "outputId": "f066894b-92fe-4c2f-b972-097adc661b56"
      },
      "execution_count": 31,
      "outputs": [
        {
          "output_type": "execute_result",
          "data": {
            "text/plain": [
              "(30, 30)"
            ]
          },
          "metadata": {},
          "execution_count": 31
        }
      ]
    },
    {
      "cell_type": "code",
      "source": [
        "from sklearn.manifold import LocallyLinearEmbedding\n",
        "\n",
        "lle = LocallyLinearEmbedding(n_components=29)\n",
        "values = lle.fit_transform(embed_vals)\n",
        "values.shape"
      ],
      "metadata": {
        "colab": {
          "base_uri": "https://localhost:8080/"
        },
        "id": "FhOEpLsA13vS",
        "outputId": "b59efc5f-7c0d-41e8-dbcf-7989a95e9e9c"
      },
      "execution_count": 35,
      "outputs": [
        {
          "output_type": "execute_result",
          "data": {
            "text/plain": [
              "(30, 29)"
            ]
          },
          "metadata": {},
          "execution_count": 35
        }
      ]
    },
    {
      "cell_type": "code",
      "source": [],
      "metadata": {
        "id": "JpDgYheL4-3H"
      },
      "execution_count": null,
      "outputs": []
    },
    {
      "cell_type": "markdown",
      "source": [
        "# Clustering"
      ],
      "metadata": {
        "id": "r71K363x4_I0"
      }
    },
    {
      "cell_type": "code",
      "source": [
        "import numpy as np\n",
        "\n",
        "from sklearn import metrics\n",
        "from sklearn.cluster import DBSCAN\n",
        "\n",
        "db = DBSCAN(eps=1.5, min_samples=2).fit(values)\n",
        "labels = db.labels_\n",
        "\n",
        "# Number of clusters in labels, ignoring noise if present.\n",
        "n_clusters_ = len(set(labels)) - (1 if -1 in labels else 0)\n",
        "n_noise_ = list(labels).count(-1)\n",
        "\n",
        "print(\"Estimated number of clusters: %d\" % n_clusters_)\n",
        "print(\"Estimated number of noise points: %d\" % n_noise_)"
      ],
      "metadata": {
        "colab": {
          "base_uri": "https://localhost:8080/"
        },
        "id": "0xK-05vD49zb",
        "outputId": "98091082-1875-4beb-f154-60df37d1731a"
      },
      "execution_count": 36,
      "outputs": [
        {
          "output_type": "stream",
          "name": "stdout",
          "text": [
            "Estimated number of clusters: 1\n",
            "Estimated number of noise points: 0\n"
          ]
        }
      ]
    },
    {
      "cell_type": "code",
      "source": [
        "from sklearn.cluster import Birch\n",
        "\n",
        "brc = Birch(n_clusters=5)\n",
        "brc.fit(values)\n",
        "brc.predict(values)"
      ],
      "metadata": {
        "colab": {
          "base_uri": "https://localhost:8080/"
        },
        "id": "OXJJm1Dd5UY3",
        "outputId": "9e0de0f4-031c-456c-e117-8ed11b7692c0"
      },
      "execution_count": 37,
      "outputs": [
        {
          "output_type": "execute_result",
          "data": {
            "text/plain": [
              "array([0, 4, 0, 2, 0, 2, 1, 2, 0, 1, 3, 0, 0, 0, 0, 0, 2, 0, 0, 3, 1, 0,\n",
              "       4, 4, 3, 1, 0, 2, 1, 0])"
            ]
          },
          "metadata": {},
          "execution_count": 37
        }
      ]
    },
    {
      "cell_type": "code",
      "source": [
        "from sklearn.cluster import KMeans\n",
        "import numpy as np\n",
        "\n",
        "kmeans = KMeans(n_clusters=3, random_state=0, n_init=\"auto\").fit(values)\n",
        "print(kmeans.labels_)\n",
        "# kmeans.predict(values)\n",
        "# kmeans.cluster_centers_"
      ],
      "metadata": {
        "colab": {
          "base_uri": "https://localhost:8080/"
        },
        "id": "R0kOVWRy52dp",
        "outputId": "f3652e28-60aa-4242-e654-d5d743919ae5"
      },
      "execution_count": 38,
      "outputs": [
        {
          "output_type": "stream",
          "name": "stdout",
          "text": [
            "[0 1 1 2 0 2 0 2 2 2 0 1 0 1 2 2 1 2 1 2 1 0 2 1 1 2 2 0 2 0]\n"
          ]
        }
      ]
    },
    {
      "cell_type": "code",
      "source": [],
      "metadata": {
        "id": "8Dquga6u57DA"
      },
      "execution_count": null,
      "outputs": []
    },
    {
      "cell_type": "markdown",
      "source": [
        "# Visualization"
      ],
      "metadata": {
        "id": "WyEHdRvyzsPQ"
      }
    },
    {
      "cell_type": "code",
      "source": [
        "# TSNE for visualisation"
      ],
      "metadata": {
        "id": "A-PdcKaxL4P1"
      },
      "execution_count": null,
      "outputs": []
    },
    {
      "cell_type": "code",
      "source": [
        "from sklearn.decomposition import PCA\n",
        "from sklearn.manifold import TSNE\n",
        "\n",
        "%matplotlib inline\n",
        "import matplotlib.pyplot as plt\n",
        "from mpl_toolkits.mplot3d import Axes3D\n",
        "\n",
        "import seaborn as sns"
      ],
      "metadata": {
        "id": "_XdbLDHl6gyI"
      },
      "execution_count": 39,
      "outputs": []
    },
    {
      "cell_type": "code",
      "source": [
        "pca = PCA(n_components=3)\n",
        "pca_result = pca.fit_transform(values)\n",
        "df = {}\n",
        "df['pca-one'] = pca_result[:,0]\n",
        "df['pca-two'] = pca_result[:,1]\n",
        "df['pca-three'] = pca_result[:,2]\n",
        "df[\"labels\"] = brc.predict(values)\n",
        "\n",
        "print('Explained variation per principal component: {}'.format(pca.explained_variance_ratio_))"
      ],
      "metadata": {
        "colab": {
          "base_uri": "https://localhost:8080/"
        },
        "id": "5K2l43TE6u1x",
        "outputId": "ef80f098-01db-417d-eba7-4b448c886e23"
      },
      "execution_count": 40,
      "outputs": [
        {
          "output_type": "stream",
          "name": "stdout",
          "text": [
            "Explained variation per principal component: [0.03448276 0.03448276 0.03448276]\n"
          ]
        }
      ]
    },
    {
      "cell_type": "code",
      "source": [
        "plt.figure(figsize=(5,5))\n",
        "sns.scatterplot(\n",
        "    x=\"pca-one\", y=\"pca-two\",\n",
        "    hue=\"labels\",\n",
        "    # palette=sns.color_palette(\"hls\", 10),\n",
        "    data=df,\n",
        "    legend=\"full\",\n",
        "    alpha=0.3\n",
        ")"
      ],
      "metadata": {
        "colab": {
          "base_uri": "https://localhost:8080/",
          "height": 483
        },
        "id": "BSqDdpvG60M8",
        "outputId": "5c266814-0df1-4946-ccf6-3c58ce1eb6b6"
      },
      "execution_count": 41,
      "outputs": [
        {
          "output_type": "execute_result",
          "data": {
            "text/plain": [
              "<Axes: xlabel='pca-one', ylabel='pca-two'>"
            ]
          },
          "metadata": {},
          "execution_count": 41
        },
        {
          "output_type": "display_data",
          "data": {
            "text/plain": [
              "<Figure size 500x500 with 1 Axes>"
            ],
            "image/png": "[encoded data removed]"
          },
          "metadata": {}
        }
      ]
    },
    {
      "cell_type": "code",
      "source": [
        "fig = plt.figure(figsize=(5,5))\n",
        "ax = fig.add_subplot(projection='3d')\n",
        "ax.scatter(\n",
        "    xs=df[\"pca-one\"],\n",
        "    ys=df[\"pca-two\"],\n",
        "    zs=df[\"pca-three\"],\n",
        "    c=df[\"labels\"],\n",
        "    cmap='tab10'\n",
        ")\n",
        "ax.set_xlabel('pca-one')\n",
        "ax.set_ylabel('pca-two')\n",
        "ax.set_zlabel('pca-three')\n",
        "plt.show()"
      ],
      "metadata": {
        "colab": {
          "base_uri": "https://localhost:8080/",
          "height": 425
        },
        "id": "tLxfXdi17Ws7",
        "outputId": "383f2524-6e61-4dd1-928c-a0785a97625e"
      },
      "execution_count": 42,
      "outputs": [
        {
          "output_type": "display_data",
          "data": {
            "text/plain": [
              "<Figure size 500x500 with 1 Axes>"
            ],
            "image/png": "[encoded data removed]"
          },
          "metadata": {}
        }
      ]
    },
    {
      "cell_type": "code",
      "source": [],
      "metadata": {
        "id": "GZspHERs8lDk"
      },
      "execution_count": null,
      "outputs": []
    },
    {
      "cell_type": "code",
      "source": [
        "tsne = TSNE(n_components=3, verbose=1, perplexity=29, n_iter=300)\n",
        "tsne_results = tsne.fit_transform(values)\n",
        "df['tsne-one'] = tsne_results[:,0]\n",
        "df['tsne-two'] = tsne_results[:,1]\n",
        "df['tsne-three'] = tsne_results[:,2]"
      ],
      "metadata": {
        "colab": {
          "base_uri": "https://localhost:8080/"
        },
        "id": "mf7FnWzW8s6v",
        "outputId": "c6f612b0-f31c-4bf8-a21b-582d2223370f"
      },
      "execution_count": 44,
      "outputs": [
        {
          "output_type": "stream",
          "name": "stdout",
          "text": [
            "[t-SNE] Computing 29 nearest neighbors...\n",
            "[t-SNE] Indexed 30 samples in 0.001s...\n",
            "[t-SNE] Computed neighbors for 30 samples in 0.006s...\n",
            "[t-SNE] Computed conditional probabilities for sample 30 / 30\n",
            "[t-SNE] Mean sigma: 1.000000\n",
            "[t-SNE] KL divergence after 250 iterations with early exaggeration: 69.321465\n",
            "[t-SNE] KL divergence after 300 iterations: 0.738524\n"
          ]
        }
      ]
    },
    {
      "cell_type": "code",
      "source": [
        "plt.figure(figsize=(5,5))\n",
        "sns.scatterplot(\n",
        "    x=\"tsne-one\", y=\"tsne-two\",\n",
        "    hue=\"labels\",\n",
        "    # palette=sns.color_palette(\"hls\", 10),\n",
        "    data=df,\n",
        "    legend=\"full\",\n",
        "    alpha=0.3\n",
        ")"
      ],
      "metadata": {
        "colab": {
          "base_uri": "https://localhost:8080/",
          "height": 485
        },
        "id": "lUP8l5_18zk6",
        "outputId": "792afc65-3944-462b-f63a-8e76e4e5757f"
      },
      "execution_count": 45,
      "outputs": [
        {
          "output_type": "execute_result",
          "data": {
            "text/plain": [
              "<Axes: xlabel='tsne-one', ylabel='tsne-two'>"
            ]
          },
          "metadata": {},
          "execution_count": 45
        },
        {
          "output_type": "display_data",
          "data": {
            "text/plain": [
              "<Figure size 500x500 with 1 Axes>"
            ],
            "image/png": "[encoded data removed]"
          },
          "metadata": {}
        }
      ]
    },
    {
      "cell_type": "code",
      "source": [
        "fig = plt.figure(figsize=(5,5))\n",
        "ax = fig.add_subplot(projection='3d')\n",
        "ax.scatter(\n",
        "    xs=df[\"tsne-one\"],\n",
        "    ys=df[\"tsne-two\"],\n",
        "    zs=df[\"tsne-three\"],\n",
        "    c=df[\"labels\"],\n",
        "    cmap='tab10'\n",
        ")\n",
        "ax.set_xlabel('tsne-one')\n",
        "ax.set_ylabel('tsne-two')\n",
        "ax.set_zlabel('tsne-three')\n",
        "plt.show()"
      ],
      "metadata": {
        "colab": {
          "base_uri": "https://localhost:8080/",
          "height": 432
        },
        "id": "qHQd4j2C9Mzw",
        "outputId": "f1ed7212-7517-45dd-c793-568047df8ddf"
      },
      "execution_count": 46,
      "outputs": [
        {
          "output_type": "display_data",
          "data": {
            "text/plain": [
              "<Figure size 500x500 with 1 Axes>"
            ],
            "image/png": "[encoded data removed]"
          },
          "metadata": {}
        }
      ]
    },
    {
      "cell_type": "code",
      "source": [
        "kmeans.labels_"
      ],
      "metadata": {
        "id": "YBan3wKX6Wap",
        "colab": {
          "base_uri": "https://localhost:8080/"
        },
        "outputId": "40f07dea-2766-484a-92f2-4ee41320c04c"
      },
      "execution_count": 47,
      "outputs": [
        {
          "output_type": "execute_result",
          "data": {
            "text/plain": [
              "array([0, 1, 1, 2, 0, 2, 0, 2, 2, 2, 0, 1, 0, 1, 2, 2, 1, 2, 1, 2, 1, 0,\n",
              "       2, 1, 1, 2, 2, 0, 2, 0], dtype=int32)"
            ]
          },
          "metadata": {},
          "execution_count": 47
        }
      ]
    },
    {
      "cell_type": "code",
      "source": [],
      "metadata": {
        "id": "EFAdmpNxAOCS"
      },
      "execution_count": null,
      "outputs": []
    },
    {
      "cell_type": "markdown",
      "source": [
        "# TF-IDF"
      ],
      "metadata": {
        "id": "hqS14A2WAO0O"
      }
    },
    {
      "cell_type": "code",
      "source": [
        "TOP_K_KEYWORDS = 6"
      ],
      "metadata": {
        "id": "_9MKv-RVC6LA"
      },
      "execution_count": 48,
      "outputs": []
    },
    {
      "cell_type": "code",
      "source": [
        "def extract_topn_from_vector(feature_names, sorted_items, topn=10):\n",
        "    sorted_items = sorted_items[:topn]\n",
        "\n",
        "    score_vals = []\n",
        "    feature_vals = []\n",
        "\n",
        "    for idx, score in sorted_items:\n",
        "        score_vals.append(round(score, 3))\n",
        "        feature_vals.append(feature_names[idx])\n",
        "\n",
        "    results= {}\n",
        "    for idx in range(len(feature_vals)):\n",
        "        results[feature_vals[idx]]=score_vals[idx]\n",
        "    return results\n",
        "\n",
        "def sort_coo(coo_matrix):\n",
        "    tuples = zip(coo_matrix.col, coo_matrix.data)\n",
        "    return sorted(tuples, key=lambda x: (x[1], x[0]), reverse=True)\n",
        "\n",
        "def get_keywords(vectorizer, feature_names, doc):\n",
        "    tf_idf_vector = vectorizer.transform(doc)\n",
        "    sorted_items=sort_coo(tf_idf_vector.tocoo())\n",
        "    keywords=extract_topn_from_vector(feature_names,sorted_items,TOP_K_KEYWORDS)\n",
        "    return list(keywords.keys())"
      ],
      "metadata": {
        "id": "8iqwAnPLBakg"
      },
      "execution_count": 49,
      "outputs": []
    },
    {
      "cell_type": "code",
      "source": [
        "stop_words = list(set(stopwords.words('english')))"
      ],
      "metadata": {
        "id": "6iMpiTjKAaub"
      },
      "execution_count": 50,
      "outputs": []
    },
    {
      "cell_type": "code",
      "source": [
        "df\n"
      ],
      "metadata": {
        "colab": {
          "base_uri": "https://localhost:8080/"
        },
        "id": "KGCfra8YnIpW",
        "outputId": "2dfe78f4-96f0-40e7-ba65-25334041ce62"
      },
      "execution_count": 53,
      "outputs": [
        {
          "output_type": "execute_result",
          "data": {
            "text/plain": [
              "{'pca-one': array([ 0.05644368,  0.12876354,  0.21357622, -0.0675728 ,  0.11597988,\n",
              "         0.25226909, -0.06405756,  0.26386119, -0.19073511,  0.0700624 ,\n",
              "        -0.08765862, -0.23360453,  0.17715022,  0.04649418,  0.21161673,\n",
              "        -0.02541967,  0.21470822, -0.15211034, -0.01345492, -0.29951666,\n",
              "        -0.03421233,  0.21913764, -0.263204  , -0.29146743, -0.10616478,\n",
              "        -0.25767586, -0.14823806,  0.03210088, -0.11415439,  0.34708321]),\n",
              " 'pca-two': array([ 0.14510049,  0.08199857, -0.13035296, -0.04625398, -0.02107278,\n",
              "        -0.09452659,  0.07511201, -0.14942375, -0.23451578, -0.0042463 ,\n",
              "         0.31406281, -0.21662566, -0.07586895,  0.15281443,  0.44568833,\n",
              "        -0.15525028,  0.12013261, -0.02514439, -0.06013957,  0.17032048,\n",
              "         0.1506075 , -0.41949416, -0.21978503,  0.2704298 , -0.042556  ,\n",
              "         0.05967094,  0.06752057, -0.14565827, -0.18558179,  0.17303767]),\n",
              " 'pca-three': array([-0.08419235,  0.30318364, -0.11954855,  0.34257718, -0.15421409,\n",
              "        -0.22826554, -0.14608173,  0.02122462, -0.21846007,  0.16731323,\n",
              "         0.17737841, -0.10575227, -0.16307922,  0.06346826,  0.12110871,\n",
              "        -0.03935253, -0.00841936,  0.09635657,  0.02575025,  0.2913065 ,\n",
              "         0.0303437 ,  0.26122622, -0.01375571, -0.23544079,  0.20749822,\n",
              "        -0.30879289, -0.16077401,  0.18887487, -0.01725175, -0.29422954]),\n",
              " 'labels': array([0, 4, 0, 2, 0, 2, 1, 2, 0, 1, 3, 0, 0, 0, 0, 0, 2, 0, 0, 3, 1, 0,\n",
              "        4, 4, 3, 1, 0, 2, 1, 0]),\n",
              " 'tsne-one': array([  0.6337947 ,  14.332605  ,   2.846574  , -10.010343  ,\n",
              "        -12.354921  , -13.96615   , -28.376907  ,  22.042057  ,\n",
              "         -2.778157  ,  13.2046175 ,  18.135958  ,  -1.7776836 ,\n",
              "        -21.31659   , -19.289711  ,  44.612774  ,  56.719807  ,\n",
              "         -4.8514366 ,   1.8994148 , -17.099731  ,   6.7836337 ,\n",
              "         13.905304  , -21.019156  ,  -6.7635226 ,  11.250728  ,\n",
              "          5.491371  ,  20.330967  , -10.577051  , -17.432169  ,\n",
              "          0.7658406 ,  -0.14764285], dtype=float32),\n",
              " 'tsne-two': array([-2.68081245e+01, -2.06452675e+01,  2.04244423e+01,  2.21163368e+00,\n",
              "         1.59441595e+01,  1.95782814e+01,  1.58752716e+00, -1.12446286e-02,\n",
              "        -1.04718294e+01,  7.45852995e+00, -1.26222734e+01, -2.41861458e+01,\n",
              "        -1.03788271e+01, -8.96589935e-01,  5.65800514e+01, -4.63247633e+00,\n",
              "         2.25822926e+00,  4.91997242e+00, -1.22583599e+01, -9.69310665e+00,\n",
              "        -4.61994886e+00,  1.28117313e+01,  2.25776601e+00,  1.31271458e+01,\n",
              "         5.21068382e+00,  1.77621384e+01, -2.25153503e+01,  1.23716764e+01,\n",
              "        -1.05819397e+01,  2.52075520e+01], dtype=float32),\n",
              " 'tsne-three': array([-15.93026   ,  -4.9845514 ,  11.80905   ,   8.236546  ,\n",
              "        -16.86695   ,   2.4280193 ,   3.8225772 ,   0.58151907,\n",
              "        -18.442162  ,  20.097485  ,  10.942554  ,  14.215862  ,\n",
              "         -6.216624  , -21.484333  ,  11.271416  , -30.48587   ,\n",
              "         24.937706  , -26.794518  ,  16.051865  ,  23.484453  ,\n",
              "        -14.528985  ,  14.948486  ,  -7.9568105 , -12.915338  ,\n",
              "          3.2585824 ,   2.94381   ,  -2.2094834 ,  30.511908  ,\n",
              "          3.399709  ,  -6.6591    ], dtype=float32)}"
            ]
          },
          "metadata": {},
          "execution_count": 53
        }
      ]
    },
    {
      "cell_type": "code",
      "source": [
        "df = pd.read_csv(\"/content/Extracted_dataset.csv\")\n",
        "df.head()"
      ],
      "metadata": {
        "colab": {
          "base_uri": "https://localhost:8080/",
          "height": 206
        },
        "id": "iaX7FmsWndh9",
        "outputId": "7973228b-ba0f-419f-e2e7-c89c55d18ee2"
      },
      "execution_count": 54,
      "outputs": [
        {
          "output_type": "execute_result",
          "data": {
            "text/plain": [
              "   0   document                                              title  \\\n",
              "0  0   doc4.pdf  MATERIALS ISSUES OF LOADING DEUTERIUM INTO PAL...   \n",
              "1  1  doc15.pdf                                             ICCF-7   \n",
              "2  2  doc16.pdf  Nuclear Physics Approach Anomalous Phenomena i...   \n",
              "3  3   doc5.pdf  Excess Heat Production and Nuclear Ash in PdO/...   \n",
              "4  4  doc14.pdf  SEARCH FOR COHERENT DEUTERON FUSION BY BEAM AN...   \n",
              "\n",
              "                                            abstract  \n",
              "0  \\nthe ability of palladium cathodes to attain ...  \n",
              "1  \\nlow energy (l-300kev) deuterium ion beam imp...  \n",
              "2  \\nimplantation experiments of very low energy ...  \n",
              "3  \\nheat production nuclear ash and electrophysi...  \n",
              "4  ] procedures and results of three kinds of exp...  "
            ],
            "text/html": [
              "\n",
              "  <div id=\"df-c21ad240-a044-4f9f-9893-4a6ac6ae9590\" class=\"colab-df-container\">\n",
              "    <div>\n",
              "<style scoped>\n",
              "    .dataframe tbody tr th:only-of-type {\n",
              "        vertical-align: middle;\n",
              "    }\n",
              "\n",
              "    .dataframe tbody tr th {\n",
              "        vertical-align: top;\n",
              "    }\n",
              "\n",
              "    .dataframe thead th {\n",
              "        text-align: right;\n",
              "    }\n",
              "</style>\n",
              "<table border=\"1\" class=\"dataframe\">\n",
              "  <thead>\n",
              "    <tr style=\"text-align: right;\">\n",
              "      <th></th>\n",
              "      <th>0</th>\n",
              "      <th>document</th>\n",
              "      <th>title</th>\n",
              "      <th>abstract</th>\n",
              "    </tr>\n",
              "  </thead>\n",
              "  <tbody>\n",
              "    <tr>\n",
              "      <th>0</th>\n",
              "      <td>0</td>\n",
              "      <td>doc4.pdf</td>\n",
              "      <td>MATERIALS ISSUES OF LOADING DEUTERIUM INTO PAL...</td>\n",
              "      <td>\\nthe ability of palladium cathodes to attain ...</td>\n",
              "    </tr>\n",
              "    <tr>\n",
              "      <th>1</th>\n",
              "      <td>1</td>\n",
              "      <td>doc15.pdf</td>\n",
              "      <td>ICCF-7</td>\n",
              "      <td>\\nlow energy (l-300kev) deuterium ion beam imp...</td>\n",
              "    </tr>\n",
              "    <tr>\n",
              "      <th>2</th>\n",
              "      <td>2</td>\n",
              "      <td>doc16.pdf</td>\n",
              "      <td>Nuclear Physics Approach Anomalous Phenomena i...</td>\n",
              "      <td>\\nimplantation experiments of very low energy ...</td>\n",
              "    </tr>\n",
              "    <tr>\n",
              "      <th>3</th>\n",
              "      <td>3</td>\n",
              "      <td>doc5.pdf</td>\n",
              "      <td>Excess Heat Production and Nuclear Ash in PdO/...</td>\n",
              "      <td>\\nheat production nuclear ash and electrophysi...</td>\n",
              "    </tr>\n",
              "    <tr>\n",
              "      <th>4</th>\n",
              "      <td>4</td>\n",
              "      <td>doc14.pdf</td>\n",
              "      <td>SEARCH FOR COHERENT DEUTERON FUSION BY BEAM AN...</td>\n",
              "      <td>] procedures and results of three kinds of exp...</td>\n",
              "    </tr>\n",
              "  </tbody>\n",
              "</table>\n",
              "</div>\n",
              "    <div class=\"colab-df-buttons\">\n",
              "\n",
              "  <div class=\"colab-df-container\">\n",
              "    <button class=\"colab-df-convert\" onclick=\"convertToInteractive('df-c21ad240-a044-4f9f-9893-4a6ac6ae9590')\"\n",
              "            title=\"Convert this dataframe to an interactive table.\"\n",
              "            style=\"display:none;\">\n",
              "\n",
              "  <svg xmlns=\"http://www.w3.org/2000/svg\" height=\"24px\" viewBox=\"0 -960 960 960\">\n",
              "    <path d=\"M120-120v-720h720v720H120Zm60-500h600v-160H180v160Zm220 220h160v-160H400v160Zm0 220h160v-160H400v160ZM180-400h160v-160H180v160Zm440 0h160v-160H620v160ZM180-180h160v-160H180v160Zm440 0h160v-160H620v160Z\"/>\n",
              "  </svg>\n",
              "    </button>\n",
              "\n",
              "  <style>\n",
              "    .colab-df-container {\n",
              "      display:flex;\n",
              "      gap: 12px;\n",
              "    }\n",
              "\n",
              "    .colab-df-convert {\n",
              "      background-color: #E8F0FE;\n",
              "      border: none;\n",
              "      border-radius: 50%;\n",
              "      cursor: pointer;\n",
              "      display: none;\n",
              "      fill: #1967D2;\n",
              "      height: 32px;\n",
              "      padding: 0 0 0 0;\n",
              "      width: 32px;\n",
              "    }\n",
              "\n",
              "    .colab-df-convert:hover {\n",
              "      background-color: #E2EBFA;\n",
              "      box-shadow: 0px 1px 2px rgba(60, 64, 67, 0.3), 0px 1px 3px 1px rgba(60, 64, 67, 0.15);\n",
              "      fill: #174EA6;\n",
              "    }\n",
              "\n",
              "    .colab-df-buttons div {\n",
              "      margin-bottom: 4px;\n",
              "    }\n",
              "\n",
              "    [theme=dark] .colab-df-convert {\n",
              "      background-color: #3B4455;\n",
              "      fill: #D2E3FC;\n",
              "    }\n",
              "\n",
              "    [theme=dark] .colab-df-convert:hover {\n",
              "      background-color: #434B5C;\n",
              "      box-shadow: 0px 1px 3px 1px rgba(0, 0, 0, 0.15);\n",
              "      filter: drop-shadow(0px 1px 2px rgba(0, 0, 0, 0.3));\n",
              "      fill: #FFFFFF;\n",
              "    }\n",
              "  </style>\n",
              "\n",
              "    <script>\n",
              "      const buttonEl =\n",
              "        document.querySelector('#df-c21ad240-a044-4f9f-9893-4a6ac6ae9590 button.colab-df-convert');\n",
              "      buttonEl.style.display =\n",
              "        google.colab.kernel.accessAllowed ? 'block' : 'none';\n",
              "\n",
              "      async function convertToInteractive(key) {\n",
              "        const element = document.querySelector('#df-c21ad240-a044-4f9f-9893-4a6ac6ae9590');\n",
              "        const dataTable =\n",
              "          await google.colab.kernel.invokeFunction('convertToInteractive',\n",
              "                                                    [key], {});\n",
              "        if (!dataTable) return;\n",
              "\n",
              "        const docLinkHtml = 'Like what you see? Visit the ' +\n",
              "          '<a target=\"_blank\" href=https://colab.research.google.com/notebooks/data_table.ipynb>data table notebook</a>'\n",
              "          + ' to learn more about interactive tables.';\n",
              "        element.innerHTML = '';\n",
              "        dataTable['output_type'] = 'display_data';\n",
              "        await google.colab.output.renderOutput(dataTable, element);\n",
              "        const docLink = document.createElement('div');\n",
              "        docLink.innerHTML = docLinkHtml;\n",
              "        element.appendChild(docLink);\n",
              "      }\n",
              "    </script>\n",
              "  </div>\n",
              "\n",
              "\n",
              "<div id=\"df-e3c7d433-bc4e-4826-9fa2-d24a5400b727\">\n",
              "  <button class=\"colab-df-quickchart\" onclick=\"quickchart('df-e3c7d433-bc4e-4826-9fa2-d24a5400b727')\"\n",
              "            title=\"Suggest charts.\"\n",
              "            style=\"display:none;\">\n",
              "\n",
              "<svg xmlns=\"http://www.w3.org/2000/svg\" height=\"24px\"viewBox=\"0 0 24 24\"\n",
              "     width=\"24px\">\n",
              "    <g>\n",
              "        <path d=\"M19 3H5c-1.1 0-2 .9-2 2v14c0 1.1.9 2 2 2h14c1.1 0 2-.9 2-2V5c0-1.1-.9-2-2-2zM9 17H7v-7h2v7zm4 0h-2V7h2v10zm4 0h-2v-4h2v4z\"/>\n",
              "    </g>\n",
              "</svg>\n",
              "  </button>\n",
              "\n",
              "<style>\n",
              "  .colab-df-quickchart {\n",
              "      --bg-color: #E8F0FE;\n",
              "      --fill-color: #1967D2;\n",
              "      --hover-bg-color: #E2EBFA;\n",
              "      --hover-fill-color: #174EA6;\n",
              "      --disabled-fill-color: #AAA;\n",
              "      --disabled-bg-color: #DDD;\n",
              "  }\n",
              "\n",
              "  [theme=dark] .colab-df-quickchart {\n",
              "      --bg-color: #3B4455;\n",
              "      --fill-color: #D2E3FC;\n",
              "      --hover-bg-color: #434B5C;\n",
              "      --hover-fill-color: #FFFFFF;\n",
              "      --disabled-bg-color: #3B4455;\n",
              "      --disabled-fill-color: #666;\n",
              "  }\n",
              "\n",
              "  .colab-df-quickchart {\n",
              "    background-color: var(--bg-color);\n",
              "    border: none;\n",
              "    border-radius: 50%;\n",
              "    cursor: pointer;\n",
              "    display: none;\n",
              "    fill: var(--fill-color);\n",
              "    height: 32px;\n",
              "    padding: 0;\n",
              "    width: 32px;\n",
              "  }\n",
              "\n",
              "  .colab-df-quickchart:hover {\n",
              "    background-color: var(--hover-bg-color);\n",
              "    box-shadow: 0 1px 2px rgba(60, 64, 67, 0.3), 0 1px 3px 1px rgba(60, 64, 67, 0.15);\n",
              "    fill: var(--button-hover-fill-color);\n",
              "  }\n",
              "\n",
              "  .colab-df-quickchart-complete:disabled,\n",
              "  .colab-df-quickchart-complete:disabled:hover {\n",
              "    background-color: var(--disabled-bg-color);\n",
              "    fill: var(--disabled-fill-color);\n",
              "    box-shadow: none;\n",
              "  }\n",
              "\n",
              "  .colab-df-spinner {\n",
              "    border: 2px solid var(--fill-color);\n",
              "    border-color: transparent;\n",
              "    border-bottom-color: var(--fill-color);\n",
              "    animation:\n",
              "      spin 1s steps(1) infinite;\n",
              "  }\n",
              "\n",
              "  @keyframes spin {\n",
              "    0% {\n",
              "      border-color: transparent;\n",
              "      border-bottom-color: var(--fill-color);\n",
              "      border-left-color: var(--fill-color);\n",
              "    }\n",
              "    20% {\n",
              "      border-color: transparent;\n",
              "      border-left-color: var(--fill-color);\n",
              "      border-top-color: var(--fill-color);\n",
              "    }\n",
              "    30% {\n",
              "      border-color: transparent;\n",
              "      border-left-color: var(--fill-color);\n",
              "      border-top-color: var(--fill-color);\n",
              "      border-right-color: var(--fill-color);\n",
              "    }\n",
              "    40% {\n",
              "      border-color: transparent;\n",
              "      border-right-color: var(--fill-color);\n",
              "      border-top-color: var(--fill-color);\n",
              "    }\n",
              "    60% {\n",
              "      border-color: transparent;\n",
              "      border-right-color: var(--fill-color);\n",
              "    }\n",
              "    80% {\n",
              "      border-color: transparent;\n",
              "      border-right-color: var(--fill-color);\n",
              "      border-bottom-color: var(--fill-color);\n",
              "    }\n",
              "    90% {\n",
              "      border-color: transparent;\n",
              "      border-bottom-color: var(--fill-color);\n",
              "    }\n",
              "  }\n",
              "</style>\n",
              "\n",
              "  <script>\n",
              "    async function quickchart(key) {\n",
              "      const quickchartButtonEl =\n",
              "        document.querySelector('#' + key + ' button');\n",
              "      quickchartButtonEl.disabled = true;  // To prevent multiple clicks.\n",
              "      quickchartButtonEl.classList.add('colab-df-spinner');\n",
              "      try {\n",
              "        const charts = await google.colab.kernel.invokeFunction(\n",
              "            'suggestCharts', [key], {});\n",
              "      } catch (error) {\n",
              "        console.error('Error during call to suggestCharts:', error);\n",
              "      }\n",
              "      quickchartButtonEl.classList.remove('colab-df-spinner');\n",
              "      quickchartButtonEl.classList.add('colab-df-quickchart-complete');\n",
              "    }\n",
              "    (() => {\n",
              "      let quickchartButtonEl =\n",
              "        document.querySelector('#df-e3c7d433-bc4e-4826-9fa2-d24a5400b727 button');\n",
              "      quickchartButtonEl.style.display =\n",
              "        google.colab.kernel.accessAllowed ? 'block' : 'none';\n",
              "    })();\n",
              "  </script>\n",
              "</div>\n",
              "    </div>\n",
              "  </div>\n"
            ]
          },
          "metadata": {},
          "execution_count": 54
        }
      ]
    },
    {
      "cell_type": "code",
      "source": [
        "corpora = df[\"abstract\"].to_list()"
      ],
      "metadata": {
        "id": "t4dP2hgZA0Cu"
      },
      "execution_count": 55,
      "outputs": []
    },
    {
      "cell_type": "code",
      "source": [
        "vectorizer = TfidfVectorizer(stop_words=stop_words, smooth_idf=True, use_idf=True)\n",
        "vectorizer.fit_transform(corpora)\n",
        "\n",
        "feature_names = vectorizer.get_feature_names_out()"
      ],
      "metadata": {
        "id": "gZUW_5hpAQFl"
      },
      "execution_count": 56,
      "outputs": []
    },
    {
      "cell_type": "code",
      "source": [
        "top_keywords = []\n",
        "abstracts_temp = [[]]\n",
        "for n, row in df.iterrows():\n",
        "  abstracts_temp[-1].append(row[\"abstract\"])\n",
        "  if len(abstracts_temp[-1]) == 5:\n",
        "      abstracts_temp.append([])\n",
        "\n",
        "for i in abstracts_temp:\n",
        "    top_keywords.append(get_keywords(vectorizer, feature_names, i))\n",
        "print(list(enumerate(top_keywords)))"
      ],
      "metadata": {
        "id": "EyceXPAEAkMC"
      },
      "execution_count": null,
      "outputs": []
    },
    {
      "cell_type": "code",
      "source": [],
      "metadata": {
        "id": "sYAksdClC946"
      },
      "execution_count": null,
      "outputs": []
    }
  ]
}